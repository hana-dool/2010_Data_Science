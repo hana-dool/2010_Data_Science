{
 "cells": [
  {
   "cell_type": "markdown",
   "metadata": {},
   "source": [
    "# Module import"
   ]
  },
  {
   "cell_type": "code",
   "execution_count": 3,
   "metadata": {
    "ExecuteTime": {
     "end_time": "2020-08-02T09:25:37.526835Z",
     "start_time": "2020-08-02T09:25:35.250127Z"
    }
   },
   "outputs": [],
   "source": [
    "import numpy as np\n",
    "import pandas as pd\n",
    "import seaborn as sns\n",
    "import matplotlib.pyplot as plt\n",
    "from sklearn import metrics # 모델평가시 이용"
   ]
  },
  {
   "cell_type": "markdown",
   "metadata": {},
   "source": [
    "# 데이터 전처리"
   ]
  },
  {
   "cell_type": "code",
   "execution_count": 4,
   "metadata": {
    "scrolled": true
   },
   "outputs": [
    {
     "data": {
      "text/html": [
       "<div>\n",
       "<style scoped>\n",
       "    .dataframe tbody tr th:only-of-type {\n",
       "        vertical-align: middle;\n",
       "    }\n",
       "\n",
       "    .dataframe tbody tr th {\n",
       "        vertical-align: top;\n",
       "    }\n",
       "\n",
       "    .dataframe thead th {\n",
       "        text-align: right;\n",
       "    }\n",
       "</style>\n",
       "<table border=\"1\" class=\"dataframe\">\n",
       "  <thead>\n",
       "    <tr style=\"text-align: right;\">\n",
       "      <th></th>\n",
       "      <th>날짜</th>\n",
       "      <th>요일</th>\n",
       "      <th>주문수</th>\n",
       "      <th>평균기온</th>\n",
       "      <th>최저기온</th>\n",
       "      <th>최고기온</th>\n",
       "      <th>강수량mm</th>\n",
       "      <th>구글검색량</th>\n",
       "      <th>네이버검색량</th>\n",
       "      <th>확진자</th>\n",
       "      <th>...</th>\n",
       "      <th>방학여부</th>\n",
       "      <th>도마1동인구</th>\n",
       "      <th>도마2동인구</th>\n",
       "      <th>변동인구</th>\n",
       "      <th>영업가게</th>\n",
       "      <th>유튜브조회수</th>\n",
       "      <th>전국확진자</th>\n",
       "      <th>전국완치자</th>\n",
       "      <th>전국사망자</th>\n",
       "      <th>코로나발발</th>\n",
       "    </tr>\n",
       "  </thead>\n",
       "  <tbody>\n",
       "    <tr>\n",
       "      <th>0</th>\n",
       "      <td>2015-11-08</td>\n",
       "      <td>일</td>\n",
       "      <td>64</td>\n",
       "      <td>13.9</td>\n",
       "      <td>13.4</td>\n",
       "      <td>14.5</td>\n",
       "      <td>15.5</td>\n",
       "      <td>26.000000</td>\n",
       "      <td>NaN</td>\n",
       "      <td>0</td>\n",
       "      <td>...</td>\n",
       "      <td>0</td>\n",
       "      <td>17755.0</td>\n",
       "      <td>20916.0</td>\n",
       "      <td>18026.0</td>\n",
       "      <td>45</td>\n",
       "      <td>NaN</td>\n",
       "      <td>0</td>\n",
       "      <td>0</td>\n",
       "      <td>0</td>\n",
       "      <td>0</td>\n",
       "    </tr>\n",
       "    <tr>\n",
       "      <th>1</th>\n",
       "      <td>2015-11-09</td>\n",
       "      <td>월</td>\n",
       "      <td>31</td>\n",
       "      <td>13.1</td>\n",
       "      <td>11.5</td>\n",
       "      <td>15.2</td>\n",
       "      <td>1.7</td>\n",
       "      <td>27.428571</td>\n",
       "      <td>NaN</td>\n",
       "      <td>0</td>\n",
       "      <td>...</td>\n",
       "      <td>0</td>\n",
       "      <td>17753.0</td>\n",
       "      <td>20913.0</td>\n",
       "      <td>18025.0</td>\n",
       "      <td>45</td>\n",
       "      <td>NaN</td>\n",
       "      <td>0</td>\n",
       "      <td>0</td>\n",
       "      <td>0</td>\n",
       "      <td>0</td>\n",
       "    </tr>\n",
       "    <tr>\n",
       "      <th>2</th>\n",
       "      <td>2015-11-10</td>\n",
       "      <td>화</td>\n",
       "      <td>19</td>\n",
       "      <td>11.0</td>\n",
       "      <td>8.0</td>\n",
       "      <td>14.5</td>\n",
       "      <td>NaN</td>\n",
       "      <td>28.857143</td>\n",
       "      <td>NaN</td>\n",
       "      <td>0</td>\n",
       "      <td>...</td>\n",
       "      <td>0</td>\n",
       "      <td>17751.0</td>\n",
       "      <td>20910.0</td>\n",
       "      <td>18024.0</td>\n",
       "      <td>45</td>\n",
       "      <td>NaN</td>\n",
       "      <td>0</td>\n",
       "      <td>0</td>\n",
       "      <td>0</td>\n",
       "      <td>0</td>\n",
       "    </tr>\n",
       "    <tr>\n",
       "      <th>3</th>\n",
       "      <td>2015-11-11</td>\n",
       "      <td>수</td>\n",
       "      <td>28</td>\n",
       "      <td>11.9</td>\n",
       "      <td>6.8</td>\n",
       "      <td>18.3</td>\n",
       "      <td>NaN</td>\n",
       "      <td>30.285714</td>\n",
       "      <td>NaN</td>\n",
       "      <td>0</td>\n",
       "      <td>...</td>\n",
       "      <td>0</td>\n",
       "      <td>17749.0</td>\n",
       "      <td>20907.0</td>\n",
       "      <td>18023.0</td>\n",
       "      <td>45</td>\n",
       "      <td>NaN</td>\n",
       "      <td>0</td>\n",
       "      <td>0</td>\n",
       "      <td>0</td>\n",
       "      <td>0</td>\n",
       "    </tr>\n",
       "    <tr>\n",
       "      <th>4</th>\n",
       "      <td>2015-11-12</td>\n",
       "      <td>목</td>\n",
       "      <td>24</td>\n",
       "      <td>13.6</td>\n",
       "      <td>8.8</td>\n",
       "      <td>19.4</td>\n",
       "      <td>NaN</td>\n",
       "      <td>31.714286</td>\n",
       "      <td>NaN</td>\n",
       "      <td>0</td>\n",
       "      <td>...</td>\n",
       "      <td>0</td>\n",
       "      <td>17747.0</td>\n",
       "      <td>20904.0</td>\n",
       "      <td>18022.0</td>\n",
       "      <td>45</td>\n",
       "      <td>NaN</td>\n",
       "      <td>0</td>\n",
       "      <td>0</td>\n",
       "      <td>0</td>\n",
       "      <td>0</td>\n",
       "    </tr>\n",
       "    <tr>\n",
       "      <th>...</th>\n",
       "      <td>...</td>\n",
       "      <td>...</td>\n",
       "      <td>...</td>\n",
       "      <td>...</td>\n",
       "      <td>...</td>\n",
       "      <td>...</td>\n",
       "      <td>...</td>\n",
       "      <td>...</td>\n",
       "      <td>...</td>\n",
       "      <td>...</td>\n",
       "      <td>...</td>\n",
       "      <td>...</td>\n",
       "      <td>...</td>\n",
       "      <td>...</td>\n",
       "      <td>...</td>\n",
       "      <td>...</td>\n",
       "      <td>...</td>\n",
       "      <td>...</td>\n",
       "      <td>...</td>\n",
       "      <td>...</td>\n",
       "      <td>...</td>\n",
       "    </tr>\n",
       "    <tr>\n",
       "      <th>1692</th>\n",
       "      <td>2020-09-22</td>\n",
       "      <td>화</td>\n",
       "      <td>60</td>\n",
       "      <td>19.1</td>\n",
       "      <td>14.9</td>\n",
       "      <td>24.5</td>\n",
       "      <td>NaN</td>\n",
       "      <td>61.428571</td>\n",
       "      <td>13.00523</td>\n",
       "      <td>2</td>\n",
       "      <td>...</td>\n",
       "      <td>0</td>\n",
       "      <td>NaN</td>\n",
       "      <td>NaN</td>\n",
       "      <td>NaN</td>\n",
       "      <td>31</td>\n",
       "      <td>NaN</td>\n",
       "      <td>70</td>\n",
       "      <td>2</td>\n",
       "      <td>90</td>\n",
       "      <td>1</td>\n",
       "    </tr>\n",
       "    <tr>\n",
       "      <th>1693</th>\n",
       "      <td>2020-09-23</td>\n",
       "      <td>수</td>\n",
       "      <td>54</td>\n",
       "      <td>19.0</td>\n",
       "      <td>14.4</td>\n",
       "      <td>23.6</td>\n",
       "      <td>NaN</td>\n",
       "      <td>67.142857</td>\n",
       "      <td>13.21658</td>\n",
       "      <td>0</td>\n",
       "      <td>...</td>\n",
       "      <td>0</td>\n",
       "      <td>NaN</td>\n",
       "      <td>NaN</td>\n",
       "      <td>NaN</td>\n",
       "      <td>31</td>\n",
       "      <td>NaN</td>\n",
       "      <td>61</td>\n",
       "      <td>3</td>\n",
       "      <td>193</td>\n",
       "      <td>1</td>\n",
       "    </tr>\n",
       "    <tr>\n",
       "      <th>1694</th>\n",
       "      <td>2020-09-24</td>\n",
       "      <td>목</td>\n",
       "      <td>57</td>\n",
       "      <td>20.8</td>\n",
       "      <td>15.7</td>\n",
       "      <td>26.4</td>\n",
       "      <td>NaN</td>\n",
       "      <td>72.857143</td>\n",
       "      <td>13.80988</td>\n",
       "      <td>0</td>\n",
       "      <td>...</td>\n",
       "      <td>0</td>\n",
       "      <td>NaN</td>\n",
       "      <td>NaN</td>\n",
       "      <td>NaN</td>\n",
       "      <td>31</td>\n",
       "      <td>NaN</td>\n",
       "      <td>110</td>\n",
       "      <td>0</td>\n",
       "      <td>209</td>\n",
       "      <td>1</td>\n",
       "    </tr>\n",
       "    <tr>\n",
       "      <th>1695</th>\n",
       "      <td>2020-09-25</td>\n",
       "      <td>금</td>\n",
       "      <td>77</td>\n",
       "      <td>20.0</td>\n",
       "      <td>14.8</td>\n",
       "      <td>25.9</td>\n",
       "      <td>NaN</td>\n",
       "      <td>78.571429</td>\n",
       "      <td>17.88591</td>\n",
       "      <td>1</td>\n",
       "      <td>...</td>\n",
       "      <td>0</td>\n",
       "      <td>NaN</td>\n",
       "      <td>NaN</td>\n",
       "      <td>NaN</td>\n",
       "      <td>31</td>\n",
       "      <td>NaN</td>\n",
       "      <td>125</td>\n",
       "      <td>5</td>\n",
       "      <td>182</td>\n",
       "      <td>1</td>\n",
       "    </tr>\n",
       "    <tr>\n",
       "      <th>1696</th>\n",
       "      <td>2020-09-26</td>\n",
       "      <td>토</td>\n",
       "      <td>11</td>\n",
       "      <td>19.4</td>\n",
       "      <td>15.0</td>\n",
       "      <td>25.5</td>\n",
       "      <td>NaN</td>\n",
       "      <td>84.285714</td>\n",
       "      <td>19.52271</td>\n",
       "      <td>0</td>\n",
       "      <td>...</td>\n",
       "      <td>0</td>\n",
       "      <td>NaN</td>\n",
       "      <td>NaN</td>\n",
       "      <td>NaN</td>\n",
       "      <td>31</td>\n",
       "      <td>NaN</td>\n",
       "      <td>114</td>\n",
       "      <td>2</td>\n",
       "      <td>146</td>\n",
       "      <td>1</td>\n",
       "    </tr>\n",
       "  </tbody>\n",
       "</table>\n",
       "<p>1697 rows × 25 columns</p>\n",
       "</div>"
      ],
      "text/plain": [
       "              날짜 요일  주문수  평균기온  최저기온  최고기온  강수량mm      구글검색량    네이버검색량  확진자  \\\n",
       "0     2015-11-08  일   64  13.9  13.4  14.5   15.5  26.000000       NaN    0   \n",
       "1     2015-11-09  월   31  13.1  11.5  15.2    1.7  27.428571       NaN    0   \n",
       "2     2015-11-10  화   19  11.0   8.0  14.5    NaN  28.857143       NaN    0   \n",
       "3     2015-11-11  수   28  11.9   6.8  18.3    NaN  30.285714       NaN    0   \n",
       "4     2015-11-12  목   24  13.6   8.8  19.4    NaN  31.714286       NaN    0   \n",
       "...          ... ..  ...   ...   ...   ...    ...        ...       ...  ...   \n",
       "1692  2020-09-22  화   60  19.1  14.9  24.5    NaN  61.428571  13.00523    2   \n",
       "1693  2020-09-23  수   54  19.0  14.4  23.6    NaN  67.142857  13.21658    0   \n",
       "1694  2020-09-24  목   57  20.8  15.7  26.4    NaN  72.857143  13.80988    0   \n",
       "1695  2020-09-25  금   77  20.0  14.8  25.9    NaN  78.571429  17.88591    1   \n",
       "1696  2020-09-26  토   11  19.4  15.0  25.5    NaN  84.285714  19.52271    0   \n",
       "\n",
       "      ...  방학여부   도마1동인구   도마2동인구     변동인구  영업가게  유튜브조회수  전국확진자  전국완치자  전국사망자  \\\n",
       "0     ...     0  17755.0  20916.0  18026.0    45     NaN      0      0      0   \n",
       "1     ...     0  17753.0  20913.0  18025.0    45     NaN      0      0      0   \n",
       "2     ...     0  17751.0  20910.0  18024.0    45     NaN      0      0      0   \n",
       "3     ...     0  17749.0  20907.0  18023.0    45     NaN      0      0      0   \n",
       "4     ...     0  17747.0  20904.0  18022.0    45     NaN      0      0      0   \n",
       "...   ...   ...      ...      ...      ...   ...     ...    ...    ...    ...   \n",
       "1692  ...     0      NaN      NaN      NaN    31     NaN     70      2     90   \n",
       "1693  ...     0      NaN      NaN      NaN    31     NaN     61      3    193   \n",
       "1694  ...     0      NaN      NaN      NaN    31     NaN    110      0    209   \n",
       "1695  ...     0      NaN      NaN      NaN    31     NaN    125      5    182   \n",
       "1696  ...     0      NaN      NaN      NaN    31     NaN    114      2    146   \n",
       "\n",
       "      코로나발발  \n",
       "0         0  \n",
       "1         0  \n",
       "2         0  \n",
       "3         0  \n",
       "4         0  \n",
       "...     ...  \n",
       "1692      1  \n",
       "1693      1  \n",
       "1694      1  \n",
       "1695      1  \n",
       "1696      1  \n",
       "\n",
       "[1697 rows x 25 columns]"
      ]
     },
     "execution_count": 4,
     "metadata": {},
     "output_type": "execute_result"
    }
   ],
   "source": [
    "X = pd.read_csv('./5조데이터(4차통합).csv',encoding='CP949') ; X\n",
    "X_ = X.copy() ; X"
   ]
  },
  {
   "cell_type": "code",
   "execution_count": 5,
   "metadata": {},
   "outputs": [],
   "source": [
    "# 월변수 만들기\n",
    "X['월'] =  X['날짜'].str[5:7]\n",
    "\n",
    "# 월 , 요일 변수 one hot vector 로 바꾸기\n",
    "X = pd.get_dummies(X, columns=['요일','월'],drop_first= False)"
   ]
  },
  {
   "cell_type": "code",
   "execution_count": 6,
   "metadata": {},
   "outputs": [],
   "source": [
    "# y 변수 추출\n",
    "y = np.array(X['주문수'])"
   ]
  },
  {
   "cell_type": "code",
   "execution_count": 5,
   "metadata": {
    "scrolled": true
   },
   "outputs": [],
   "source": [
    "# 필요없는 변수 dropping\n",
    "X.drop(columns=['복날','날짜','주문수','최저기온',\n",
    "                '최고기온','확진자','사망자','완치자','전국확진자','전국완치자','전국사망자','유튜브조회수','코로나발발'],inplace=True)"
   ]
  },
  {
   "cell_type": "markdown",
   "metadata": {},
   "source": [
    "## Imputation"
   ]
  },
  {
   "cell_type": "code",
   "execution_count": 6,
   "metadata": {},
   "outputs": [],
   "source": [
    "# 강수량 Imputation \n",
    "X['강수량mm'] = X['강수량mm'].fillna(0)\n",
    "# 강수량 변환\n",
    "X['강수량mm'] = np.log1p(X['강수량mm'])"
   ]
  },
  {
   "cell_type": "code",
   "execution_count": 7,
   "metadata": {},
   "outputs": [],
   "source": [
    "# 네이버검색량 , 지하철 승하차인원 Imputation\n",
    "from sklearn.impute import KNNImputer\n",
    "imputer = KNNImputer(n_neighbors=5)\n",
    "\n",
    "X[['네이버검색량']] = imputer.fit_transform(X[['네이버검색량']])\n",
    "X[['지하철승하차인원']] = imputer.fit_transform(X[['지하철승하차인원']])"
   ]
  },
  {
   "cell_type": "code",
   "execution_count": 8,
   "metadata": {},
   "outputs": [],
   "source": [
    "# 인구수 imputation \n",
    "# 현재, 팀 과제 프로젝트에서 대부분 등차수열로(linear 하게) imputation 해놓은 상태라, 맨 마지막 달의 인구만 na를 채우면 된다.\n",
    "# 계속 감소하는 추세였으므로, 제일 마지막 달의 인구는, 제일 작은 값을 가질것이다.\n",
    "# 그러므로 임시로 min 으로 채워넣자.\n",
    "min1 = np.min(X['도마1동인구'])\n",
    "min2 = np.min(X['도마2동인구'])\n",
    "min3 = np.min(X['변동인구'])"
   ]
  },
  {
   "cell_type": "code",
   "execution_count": 9,
   "metadata": {},
   "outputs": [
    {
     "name": "stdout",
     "output_type": "stream",
     "text": [
      "15111.0 18486.0 16392.0\n"
     ]
    }
   ],
   "source": [
    "print(min1,min2,min3)"
   ]
  },
  {
   "cell_type": "code",
   "execution_count": 10,
   "metadata": {},
   "outputs": [],
   "source": [
    "X['도마1동인구'].fillna(15111.0,inplace=True)\n",
    "X['도마2동인구'].fillna(18486.0,inplace=True) \n",
    "X['변동인구'].fillna(16392.0,inplace=True) "
   ]
  },
  {
   "cell_type": "code",
   "execution_count": 11,
   "metadata": {},
   "outputs": [],
   "source": [
    "X = X.astype(float)"
   ]
  },
  {
   "cell_type": "code",
   "execution_count": 12,
   "metadata": {
    "scrolled": true
   },
   "outputs": [
    {
     "data": {
      "text/html": [
       "<div>\n",
       "<style scoped>\n",
       "    .dataframe tbody tr th:only-of-type {\n",
       "        vertical-align: middle;\n",
       "    }\n",
       "\n",
       "    .dataframe tbody tr th {\n",
       "        vertical-align: top;\n",
       "    }\n",
       "\n",
       "    .dataframe thead th {\n",
       "        text-align: right;\n",
       "    }\n",
       "</style>\n",
       "<table border=\"1\" class=\"dataframe\">\n",
       "  <thead>\n",
       "    <tr style=\"text-align: right;\">\n",
       "      <th></th>\n",
       "      <th>평균기온</th>\n",
       "      <th>강수량mm</th>\n",
       "      <th>구글검색량</th>\n",
       "      <th>네이버검색량</th>\n",
       "      <th>지하철승하차인원</th>\n",
       "      <th>공휴일</th>\n",
       "      <th>방학여부</th>\n",
       "      <th>도마1동인구</th>\n",
       "      <th>도마2동인구</th>\n",
       "      <th>변동인구</th>\n",
       "      <th>...</th>\n",
       "      <th>월_03</th>\n",
       "      <th>월_04</th>\n",
       "      <th>월_05</th>\n",
       "      <th>월_06</th>\n",
       "      <th>월_07</th>\n",
       "      <th>월_08</th>\n",
       "      <th>월_09</th>\n",
       "      <th>월_10</th>\n",
       "      <th>월_11</th>\n",
       "      <th>월_12</th>\n",
       "    </tr>\n",
       "  </thead>\n",
       "  <tbody>\n",
       "    <tr>\n",
       "      <th>count</th>\n",
       "      <td>1697.000000</td>\n",
       "      <td>1697.000000</td>\n",
       "      <td>1697.000000</td>\n",
       "      <td>1697.000000</td>\n",
       "      <td>1697.000000</td>\n",
       "      <td>1697.000000</td>\n",
       "      <td>1697.000000</td>\n",
       "      <td>1697.000000</td>\n",
       "      <td>1697.000000</td>\n",
       "      <td>1697.000000</td>\n",
       "      <td>...</td>\n",
       "      <td>1697.000000</td>\n",
       "      <td>1697.000000</td>\n",
       "      <td>1697.000000</td>\n",
       "      <td>1697.000000</td>\n",
       "      <td>1697.000000</td>\n",
       "      <td>1697.000000</td>\n",
       "      <td>1697.000000</td>\n",
       "      <td>1697.000000</td>\n",
       "      <td>1697.000000</td>\n",
       "      <td>1697.000000</td>\n",
       "    </tr>\n",
       "    <tr>\n",
       "      <th>mean</th>\n",
       "      <td>13.840837</td>\n",
       "      <td>0.527349</td>\n",
       "      <td>52.084266</td>\n",
       "      <td>14.701071</td>\n",
       "      <td>201813.465625</td>\n",
       "      <td>0.050088</td>\n",
       "      <td>0.389511</td>\n",
       "      <td>16400.315262</td>\n",
       "      <td>19643.548026</td>\n",
       "      <td>17169.354154</td>\n",
       "      <td>...</td>\n",
       "      <td>0.087802</td>\n",
       "      <td>0.085445</td>\n",
       "      <td>0.088391</td>\n",
       "      <td>0.084856</td>\n",
       "      <td>0.083677</td>\n",
       "      <td>0.086623</td>\n",
       "      <td>0.081320</td>\n",
       "      <td>0.067767</td>\n",
       "      <td>0.080141</td>\n",
       "      <td>0.087802</td>\n",
       "    </tr>\n",
       "    <tr>\n",
       "      <th>std</th>\n",
       "      <td>10.143406</td>\n",
       "      <td>1.058985</td>\n",
       "      <td>16.230386</td>\n",
       "      <td>4.738835</td>\n",
       "      <td>46265.105986</td>\n",
       "      <td>0.218192</td>\n",
       "      <td>0.487783</td>\n",
       "      <td>900.865908</td>\n",
       "      <td>769.473961</td>\n",
       "      <td>530.209430</td>\n",
       "      <td>...</td>\n",
       "      <td>0.283090</td>\n",
       "      <td>0.279625</td>\n",
       "      <td>0.283947</td>\n",
       "      <td>0.278749</td>\n",
       "      <td>0.276985</td>\n",
       "      <td>0.281365</td>\n",
       "      <td>0.273406</td>\n",
       "      <td>0.251419</td>\n",
       "      <td>0.271592</td>\n",
       "      <td>0.283090</td>\n",
       "    </tr>\n",
       "    <tr>\n",
       "      <th>min</th>\n",
       "      <td>-11.800000</td>\n",
       "      <td>0.000000</td>\n",
       "      <td>18.000000</td>\n",
       "      <td>6.817980</td>\n",
       "      <td>35976.000000</td>\n",
       "      <td>0.000000</td>\n",
       "      <td>0.000000</td>\n",
       "      <td>15111.000000</td>\n",
       "      <td>18486.000000</td>\n",
       "      <td>16392.000000</td>\n",
       "      <td>...</td>\n",
       "      <td>0.000000</td>\n",
       "      <td>0.000000</td>\n",
       "      <td>0.000000</td>\n",
       "      <td>0.000000</td>\n",
       "      <td>0.000000</td>\n",
       "      <td>0.000000</td>\n",
       "      <td>0.000000</td>\n",
       "      <td>0.000000</td>\n",
       "      <td>0.000000</td>\n",
       "      <td>0.000000</td>\n",
       "    </tr>\n",
       "    <tr>\n",
       "      <th>25%</th>\n",
       "      <td>5.100000</td>\n",
       "      <td>0.000000</td>\n",
       "      <td>39.285714</td>\n",
       "      <td>11.704160</td>\n",
       "      <td>175118.000000</td>\n",
       "      <td>0.000000</td>\n",
       "      <td>0.000000</td>\n",
       "      <td>15494.000000</td>\n",
       "      <td>18858.000000</td>\n",
       "      <td>16699.000000</td>\n",
       "      <td>...</td>\n",
       "      <td>0.000000</td>\n",
       "      <td>0.000000</td>\n",
       "      <td>0.000000</td>\n",
       "      <td>0.000000</td>\n",
       "      <td>0.000000</td>\n",
       "      <td>0.000000</td>\n",
       "      <td>0.000000</td>\n",
       "      <td>0.000000</td>\n",
       "      <td>0.000000</td>\n",
       "      <td>0.000000</td>\n",
       "    </tr>\n",
       "    <tr>\n",
       "      <th>50%</th>\n",
       "      <td>14.400000</td>\n",
       "      <td>0.000000</td>\n",
       "      <td>50.428571</td>\n",
       "      <td>14.295300</td>\n",
       "      <td>201813.465625</td>\n",
       "      <td>0.000000</td>\n",
       "      <td>0.000000</td>\n",
       "      <td>16796.000000</td>\n",
       "      <td>19661.000000</td>\n",
       "      <td>17063.000000</td>\n",
       "      <td>...</td>\n",
       "      <td>0.000000</td>\n",
       "      <td>0.000000</td>\n",
       "      <td>0.000000</td>\n",
       "      <td>0.000000</td>\n",
       "      <td>0.000000</td>\n",
       "      <td>0.000000</td>\n",
       "      <td>0.000000</td>\n",
       "      <td>0.000000</td>\n",
       "      <td>0.000000</td>\n",
       "      <td>0.000000</td>\n",
       "    </tr>\n",
       "    <tr>\n",
       "      <th>75%</th>\n",
       "      <td>22.600000</td>\n",
       "      <td>0.405465</td>\n",
       "      <td>64.714286</td>\n",
       "      <td>17.149520</td>\n",
       "      <td>240340.000000</td>\n",
       "      <td>0.000000</td>\n",
       "      <td>1.000000</td>\n",
       "      <td>17191.000000</td>\n",
       "      <td>20355.000000</td>\n",
       "      <td>17678.000000</td>\n",
       "      <td>...</td>\n",
       "      <td>0.000000</td>\n",
       "      <td>0.000000</td>\n",
       "      <td>0.000000</td>\n",
       "      <td>0.000000</td>\n",
       "      <td>0.000000</td>\n",
       "      <td>0.000000</td>\n",
       "      <td>0.000000</td>\n",
       "      <td>0.000000</td>\n",
       "      <td>0.000000</td>\n",
       "      <td>0.000000</td>\n",
       "    </tr>\n",
       "    <tr>\n",
       "      <th>max</th>\n",
       "      <td>33.400000</td>\n",
       "      <td>5.193512</td>\n",
       "      <td>100.000000</td>\n",
       "      <td>100.000000</td>\n",
       "      <td>289768.000000</td>\n",
       "      <td>1.000000</td>\n",
       "      <td>1.000000</td>\n",
       "      <td>17755.000000</td>\n",
       "      <td>20916.000000</td>\n",
       "      <td>18026.000000</td>\n",
       "      <td>...</td>\n",
       "      <td>1.000000</td>\n",
       "      <td>1.000000</td>\n",
       "      <td>1.000000</td>\n",
       "      <td>1.000000</td>\n",
       "      <td>1.000000</td>\n",
       "      <td>1.000000</td>\n",
       "      <td>1.000000</td>\n",
       "      <td>1.000000</td>\n",
       "      <td>1.000000</td>\n",
       "      <td>1.000000</td>\n",
       "    </tr>\n",
       "  </tbody>\n",
       "</table>\n",
       "<p>8 rows × 30 columns</p>\n",
       "</div>"
      ],
      "text/plain": [
       "              평균기온        강수량mm        구글검색량       네이버검색량       지하철승하차인원  \\\n",
       "count  1697.000000  1697.000000  1697.000000  1697.000000    1697.000000   \n",
       "mean     13.840837     0.527349    52.084266    14.701071  201813.465625   \n",
       "std      10.143406     1.058985    16.230386     4.738835   46265.105986   \n",
       "min     -11.800000     0.000000    18.000000     6.817980   35976.000000   \n",
       "25%       5.100000     0.000000    39.285714    11.704160  175118.000000   \n",
       "50%      14.400000     0.000000    50.428571    14.295300  201813.465625   \n",
       "75%      22.600000     0.405465    64.714286    17.149520  240340.000000   \n",
       "max      33.400000     5.193512   100.000000   100.000000  289768.000000   \n",
       "\n",
       "               공휴일         방학여부        도마1동인구        도마2동인구          변동인구  \\\n",
       "count  1697.000000  1697.000000   1697.000000   1697.000000   1697.000000   \n",
       "mean      0.050088     0.389511  16400.315262  19643.548026  17169.354154   \n",
       "std       0.218192     0.487783    900.865908    769.473961    530.209430   \n",
       "min       0.000000     0.000000  15111.000000  18486.000000  16392.000000   \n",
       "25%       0.000000     0.000000  15494.000000  18858.000000  16699.000000   \n",
       "50%       0.000000     0.000000  16796.000000  19661.000000  17063.000000   \n",
       "75%       0.000000     1.000000  17191.000000  20355.000000  17678.000000   \n",
       "max       1.000000     1.000000  17755.000000  20916.000000  18026.000000   \n",
       "\n",
       "       ...         월_03         월_04         월_05         월_06         월_07  \\\n",
       "count  ...  1697.000000  1697.000000  1697.000000  1697.000000  1697.000000   \n",
       "mean   ...     0.087802     0.085445     0.088391     0.084856     0.083677   \n",
       "std    ...     0.283090     0.279625     0.283947     0.278749     0.276985   \n",
       "min    ...     0.000000     0.000000     0.000000     0.000000     0.000000   \n",
       "25%    ...     0.000000     0.000000     0.000000     0.000000     0.000000   \n",
       "50%    ...     0.000000     0.000000     0.000000     0.000000     0.000000   \n",
       "75%    ...     0.000000     0.000000     0.000000     0.000000     0.000000   \n",
       "max    ...     1.000000     1.000000     1.000000     1.000000     1.000000   \n",
       "\n",
       "              월_08         월_09         월_10         월_11         월_12  \n",
       "count  1697.000000  1697.000000  1697.000000  1697.000000  1697.000000  \n",
       "mean      0.086623     0.081320     0.067767     0.080141     0.087802  \n",
       "std       0.281365     0.273406     0.251419     0.271592     0.283090  \n",
       "min       0.000000     0.000000     0.000000     0.000000     0.000000  \n",
       "25%       0.000000     0.000000     0.000000     0.000000     0.000000  \n",
       "50%       0.000000     0.000000     0.000000     0.000000     0.000000  \n",
       "75%       0.000000     0.000000     0.000000     0.000000     0.000000  \n",
       "max       1.000000     1.000000     1.000000     1.000000     1.000000  \n",
       "\n",
       "[8 rows x 30 columns]"
      ]
     },
     "execution_count": 12,
     "metadata": {},
     "output_type": "execute_result"
    }
   ],
   "source": [
    "X.describe()"
   ]
  },
  {
   "cell_type": "code",
   "execution_count": 13,
   "metadata": {},
   "outputs": [],
   "source": [
    "# columns 의 명칭바꾸기. (한글로 하면 에러가 나온다.)\n",
    "X.columns =  ['temp','rain','google','naver','subway','holy','vacation','do1_pop','do2_pop',\n",
    "                  'byun_pop','store','fri','thu','wed','mon','sun','sat','tue',\n",
    "                  'mon1','mon2','mon3','mon4','mon5','mon6','mon7','mon8','mon9','mon10','mon11','mon12']"
   ]
  },
  {
   "cell_type": "markdown",
   "metadata": {},
   "source": [
    "## Scaling"
   ]
  },
  {
   "cell_type": "code",
   "execution_count": 14,
   "metadata": {
    "ExecuteTime": {
     "end_time": "2020-08-02T09:25:37.637397Z",
     "start_time": "2020-08-02T09:25:37.607478Z"
    }
   },
   "outputs": [],
   "source": [
    "# dataset train/test set 으로 나누기\n",
    "from sklearn.model_selection import train_test_split\n",
    "X_train, X_test, y_train, y_test = train_test_split(X, y, test_size=0.20, random_state=0)"
   ]
  },
  {
   "cell_type": "code",
   "execution_count": 15,
   "metadata": {},
   "outputs": [
    {
     "data": {
      "text/html": [
       "<div>\n",
       "<style scoped>\n",
       "    .dataframe tbody tr th:only-of-type {\n",
       "        vertical-align: middle;\n",
       "    }\n",
       "\n",
       "    .dataframe tbody tr th {\n",
       "        vertical-align: top;\n",
       "    }\n",
       "\n",
       "    .dataframe thead th {\n",
       "        text-align: right;\n",
       "    }\n",
       "</style>\n",
       "<table border=\"1\" class=\"dataframe\">\n",
       "  <thead>\n",
       "    <tr style=\"text-align: right;\">\n",
       "      <th></th>\n",
       "      <th>temp</th>\n",
       "      <th>rain</th>\n",
       "      <th>google</th>\n",
       "      <th>naver</th>\n",
       "      <th>subway</th>\n",
       "      <th>holy</th>\n",
       "      <th>vacation</th>\n",
       "      <th>do1_pop</th>\n",
       "      <th>do2_pop</th>\n",
       "      <th>byun_pop</th>\n",
       "      <th>...</th>\n",
       "      <th>mon3</th>\n",
       "      <th>mon4</th>\n",
       "      <th>mon5</th>\n",
       "      <th>mon6</th>\n",
       "      <th>mon7</th>\n",
       "      <th>mon8</th>\n",
       "      <th>mon9</th>\n",
       "      <th>mon10</th>\n",
       "      <th>mon11</th>\n",
       "      <th>mon12</th>\n",
       "    </tr>\n",
       "  </thead>\n",
       "  <tbody>\n",
       "    <tr>\n",
       "      <th>801</th>\n",
       "      <td>1.1</td>\n",
       "      <td>0.000000</td>\n",
       "      <td>51.285714</td>\n",
       "      <td>10.495550</td>\n",
       "      <td>243130.000000</td>\n",
       "      <td>0.0</td>\n",
       "      <td>0.0</td>\n",
       "      <td>16898.0</td>\n",
       "      <td>19724.0</td>\n",
       "      <td>17134.0</td>\n",
       "      <td>...</td>\n",
       "      <td>1.0</td>\n",
       "      <td>0.0</td>\n",
       "      <td>0.0</td>\n",
       "      <td>0.0</td>\n",
       "      <td>0.0</td>\n",
       "      <td>0.0</td>\n",
       "      <td>0.0</td>\n",
       "      <td>0.0</td>\n",
       "      <td>0.0</td>\n",
       "      <td>0.0</td>\n",
       "    </tr>\n",
       "    <tr>\n",
       "      <th>1679</th>\n",
       "      <td>22.2</td>\n",
       "      <td>2.388763</td>\n",
       "      <td>67.714286</td>\n",
       "      <td>16.964600</td>\n",
       "      <td>140875.000000</td>\n",
       "      <td>0.0</td>\n",
       "      <td>0.0</td>\n",
       "      <td>15111.0</td>\n",
       "      <td>18486.0</td>\n",
       "      <td>16392.0</td>\n",
       "      <td>...</td>\n",
       "      <td>0.0</td>\n",
       "      <td>0.0</td>\n",
       "      <td>0.0</td>\n",
       "      <td>0.0</td>\n",
       "      <td>0.0</td>\n",
       "      <td>0.0</td>\n",
       "      <td>1.0</td>\n",
       "      <td>0.0</td>\n",
       "      <td>0.0</td>\n",
       "      <td>0.0</td>\n",
       "    </tr>\n",
       "    <tr>\n",
       "      <th>1223</th>\n",
       "      <td>23.4</td>\n",
       "      <td>0.000000</td>\n",
       "      <td>71.000000</td>\n",
       "      <td>12.348090</td>\n",
       "      <td>244722.000000</td>\n",
       "      <td>0.0</td>\n",
       "      <td>0.0</td>\n",
       "      <td>15616.0</td>\n",
       "      <td>18942.0</td>\n",
       "      <td>16711.0</td>\n",
       "      <td>...</td>\n",
       "      <td>0.0</td>\n",
       "      <td>0.0</td>\n",
       "      <td>0.0</td>\n",
       "      <td>1.0</td>\n",
       "      <td>0.0</td>\n",
       "      <td>0.0</td>\n",
       "      <td>0.0</td>\n",
       "      <td>0.0</td>\n",
       "      <td>0.0</td>\n",
       "      <td>0.0</td>\n",
       "    </tr>\n",
       "    <tr>\n",
       "      <th>1180</th>\n",
       "      <td>17.2</td>\n",
       "      <td>0.000000</td>\n",
       "      <td>66.000000</td>\n",
       "      <td>22.782000</td>\n",
       "      <td>201630.000000</td>\n",
       "      <td>0.0</td>\n",
       "      <td>0.0</td>\n",
       "      <td>15613.0</td>\n",
       "      <td>19033.0</td>\n",
       "      <td>16759.0</td>\n",
       "      <td>...</td>\n",
       "      <td>0.0</td>\n",
       "      <td>1.0</td>\n",
       "      <td>0.0</td>\n",
       "      <td>0.0</td>\n",
       "      <td>0.0</td>\n",
       "      <td>0.0</td>\n",
       "      <td>0.0</td>\n",
       "      <td>0.0</td>\n",
       "      <td>0.0</td>\n",
       "      <td>0.0</td>\n",
       "    </tr>\n",
       "    <tr>\n",
       "      <th>22</th>\n",
       "      <td>6.9</td>\n",
       "      <td>0.000000</td>\n",
       "      <td>45.428571</td>\n",
       "      <td>14.701071</td>\n",
       "      <td>201813.465625</td>\n",
       "      <td>0.0</td>\n",
       "      <td>0.0</td>\n",
       "      <td>17711.0</td>\n",
       "      <td>20850.0</td>\n",
       "      <td>18001.0</td>\n",
       "      <td>...</td>\n",
       "      <td>0.0</td>\n",
       "      <td>0.0</td>\n",
       "      <td>0.0</td>\n",
       "      <td>0.0</td>\n",
       "      <td>0.0</td>\n",
       "      <td>0.0</td>\n",
       "      <td>0.0</td>\n",
       "      <td>0.0</td>\n",
       "      <td>1.0</td>\n",
       "      <td>0.0</td>\n",
       "    </tr>\n",
       "    <tr>\n",
       "      <th>...</th>\n",
       "      <td>...</td>\n",
       "      <td>...</td>\n",
       "      <td>...</td>\n",
       "      <td>...</td>\n",
       "      <td>...</td>\n",
       "      <td>...</td>\n",
       "      <td>...</td>\n",
       "      <td>...</td>\n",
       "      <td>...</td>\n",
       "      <td>...</td>\n",
       "      <td>...</td>\n",
       "      <td>...</td>\n",
       "      <td>...</td>\n",
       "      <td>...</td>\n",
       "      <td>...</td>\n",
       "      <td>...</td>\n",
       "      <td>...</td>\n",
       "      <td>...</td>\n",
       "      <td>...</td>\n",
       "      <td>...</td>\n",
       "      <td>...</td>\n",
       "    </tr>\n",
       "    <tr>\n",
       "      <th>835</th>\n",
       "      <td>16.2</td>\n",
       "      <td>0.262364</td>\n",
       "      <td>34.571429</td>\n",
       "      <td>8.662820</td>\n",
       "      <td>243556.000000</td>\n",
       "      <td>0.0</td>\n",
       "      <td>0.0</td>\n",
       "      <td>16826.0</td>\n",
       "      <td>19661.0</td>\n",
       "      <td>17085.0</td>\n",
       "      <td>...</td>\n",
       "      <td>0.0</td>\n",
       "      <td>1.0</td>\n",
       "      <td>0.0</td>\n",
       "      <td>0.0</td>\n",
       "      <td>0.0</td>\n",
       "      <td>0.0</td>\n",
       "      <td>0.0</td>\n",
       "      <td>0.0</td>\n",
       "      <td>0.0</td>\n",
       "      <td>0.0</td>\n",
       "    </tr>\n",
       "    <tr>\n",
       "      <th>1216</th>\n",
       "      <td>17.9</td>\n",
       "      <td>2.734368</td>\n",
       "      <td>68.571429</td>\n",
       "      <td>15.084530</td>\n",
       "      <td>225629.000000</td>\n",
       "      <td>0.0</td>\n",
       "      <td>0.0</td>\n",
       "      <td>15625.0</td>\n",
       "      <td>18949.0</td>\n",
       "      <td>16718.0</td>\n",
       "      <td>...</td>\n",
       "      <td>0.0</td>\n",
       "      <td>0.0</td>\n",
       "      <td>1.0</td>\n",
       "      <td>0.0</td>\n",
       "      <td>0.0</td>\n",
       "      <td>0.0</td>\n",
       "      <td>0.0</td>\n",
       "      <td>0.0</td>\n",
       "      <td>0.0</td>\n",
       "      <td>0.0</td>\n",
       "    </tr>\n",
       "    <tr>\n",
       "      <th>1653</th>\n",
       "      <td>28.5</td>\n",
       "      <td>0.470004</td>\n",
       "      <td>82.285714</td>\n",
       "      <td>22.654320</td>\n",
       "      <td>183563.000000</td>\n",
       "      <td>0.0</td>\n",
       "      <td>1.0</td>\n",
       "      <td>15111.0</td>\n",
       "      <td>18493.0</td>\n",
       "      <td>16409.0</td>\n",
       "      <td>...</td>\n",
       "      <td>0.0</td>\n",
       "      <td>0.0</td>\n",
       "      <td>0.0</td>\n",
       "      <td>0.0</td>\n",
       "      <td>0.0</td>\n",
       "      <td>1.0</td>\n",
       "      <td>0.0</td>\n",
       "      <td>0.0</td>\n",
       "      <td>0.0</td>\n",
       "      <td>0.0</td>\n",
       "    </tr>\n",
       "    <tr>\n",
       "      <th>559</th>\n",
       "      <td>21.4</td>\n",
       "      <td>0.000000</td>\n",
       "      <td>40.000000</td>\n",
       "      <td>16.055380</td>\n",
       "      <td>164694.000000</td>\n",
       "      <td>0.0</td>\n",
       "      <td>0.0</td>\n",
       "      <td>17064.0</td>\n",
       "      <td>20262.0</td>\n",
       "      <td>17463.0</td>\n",
       "      <td>...</td>\n",
       "      <td>0.0</td>\n",
       "      <td>0.0</td>\n",
       "      <td>1.0</td>\n",
       "      <td>0.0</td>\n",
       "      <td>0.0</td>\n",
       "      <td>0.0</td>\n",
       "      <td>0.0</td>\n",
       "      <td>0.0</td>\n",
       "      <td>0.0</td>\n",
       "      <td>0.0</td>\n",
       "    </tr>\n",
       "    <tr>\n",
       "      <th>684</th>\n",
       "      <td>16.1</td>\n",
       "      <td>0.000000</td>\n",
       "      <td>45.428571</td>\n",
       "      <td>10.031040</td>\n",
       "      <td>244499.000000</td>\n",
       "      <td>0.0</td>\n",
       "      <td>0.0</td>\n",
       "      <td>17059.0</td>\n",
       "      <td>20078.0</td>\n",
       "      <td>17393.0</td>\n",
       "      <td>...</td>\n",
       "      <td>0.0</td>\n",
       "      <td>0.0</td>\n",
       "      <td>0.0</td>\n",
       "      <td>0.0</td>\n",
       "      <td>0.0</td>\n",
       "      <td>0.0</td>\n",
       "      <td>0.0</td>\n",
       "      <td>1.0</td>\n",
       "      <td>0.0</td>\n",
       "      <td>0.0</td>\n",
       "    </tr>\n",
       "  </tbody>\n",
       "</table>\n",
       "<p>1357 rows × 30 columns</p>\n",
       "</div>"
      ],
      "text/plain": [
       "      temp      rain     google      naver         subway  holy  vacation  \\\n",
       "801    1.1  0.000000  51.285714  10.495550  243130.000000   0.0       0.0   \n",
       "1679  22.2  2.388763  67.714286  16.964600  140875.000000   0.0       0.0   \n",
       "1223  23.4  0.000000  71.000000  12.348090  244722.000000   0.0       0.0   \n",
       "1180  17.2  0.000000  66.000000  22.782000  201630.000000   0.0       0.0   \n",
       "22     6.9  0.000000  45.428571  14.701071  201813.465625   0.0       0.0   \n",
       "...    ...       ...        ...        ...            ...   ...       ...   \n",
       "835   16.2  0.262364  34.571429   8.662820  243556.000000   0.0       0.0   \n",
       "1216  17.9  2.734368  68.571429  15.084530  225629.000000   0.0       0.0   \n",
       "1653  28.5  0.470004  82.285714  22.654320  183563.000000   0.0       1.0   \n",
       "559   21.4  0.000000  40.000000  16.055380  164694.000000   0.0       0.0   \n",
       "684   16.1  0.000000  45.428571  10.031040  244499.000000   0.0       0.0   \n",
       "\n",
       "      do1_pop  do2_pop  byun_pop  ...  mon3  mon4  mon5  mon6  mon7  mon8  \\\n",
       "801   16898.0  19724.0   17134.0  ...   1.0   0.0   0.0   0.0   0.0   0.0   \n",
       "1679  15111.0  18486.0   16392.0  ...   0.0   0.0   0.0   0.0   0.0   0.0   \n",
       "1223  15616.0  18942.0   16711.0  ...   0.0   0.0   0.0   1.0   0.0   0.0   \n",
       "1180  15613.0  19033.0   16759.0  ...   0.0   1.0   0.0   0.0   0.0   0.0   \n",
       "22    17711.0  20850.0   18001.0  ...   0.0   0.0   0.0   0.0   0.0   0.0   \n",
       "...       ...      ...       ...  ...   ...   ...   ...   ...   ...   ...   \n",
       "835   16826.0  19661.0   17085.0  ...   0.0   1.0   0.0   0.0   0.0   0.0   \n",
       "1216  15625.0  18949.0   16718.0  ...   0.0   0.0   1.0   0.0   0.0   0.0   \n",
       "1653  15111.0  18493.0   16409.0  ...   0.0   0.0   0.0   0.0   0.0   1.0   \n",
       "559   17064.0  20262.0   17463.0  ...   0.0   0.0   1.0   0.0   0.0   0.0   \n",
       "684   17059.0  20078.0   17393.0  ...   0.0   0.0   0.0   0.0   0.0   0.0   \n",
       "\n",
       "      mon9  mon10  mon11  mon12  \n",
       "801    0.0    0.0    0.0    0.0  \n",
       "1679   1.0    0.0    0.0    0.0  \n",
       "1223   0.0    0.0    0.0    0.0  \n",
       "1180   0.0    0.0    0.0    0.0  \n",
       "22     0.0    0.0    1.0    0.0  \n",
       "...    ...    ...    ...    ...  \n",
       "835    0.0    0.0    0.0    0.0  \n",
       "1216   0.0    0.0    0.0    0.0  \n",
       "1653   0.0    0.0    0.0    0.0  \n",
       "559    0.0    0.0    0.0    0.0  \n",
       "684    0.0    1.0    0.0    0.0  \n",
       "\n",
       "[1357 rows x 30 columns]"
      ]
     },
     "execution_count": 15,
     "metadata": {},
     "output_type": "execute_result"
    }
   ],
   "source": [
    "X_train"
   ]
  },
  {
   "cell_type": "code",
   "execution_count": 16,
   "metadata": {},
   "outputs": [],
   "source": [
    "trans_col = ['temp','rain','google','naver','subway','holy','do1_pop','do2_pop','byun_pop','store']"
   ]
  },
  {
   "cell_type": "code",
   "execution_count": 17,
   "metadata": {},
   "outputs": [],
   "source": [
    "# standard transformation\n",
    "from sklearn.preprocessing import StandardScaler\n",
    "scaler = StandardScaler()"
   ]
  },
  {
   "cell_type": "code",
   "execution_count": 18,
   "metadata": {
    "scrolled": false
   },
   "outputs": [
    {
     "name": "stderr",
     "output_type": "stream",
     "text": [
      "C:\\Users\\goran\\Anaconda3\\envs\\tensor\\lib\\site-packages\\pandas\\core\\indexing.py:670: SettingWithCopyWarning: \n",
      "A value is trying to be set on a copy of a slice from a DataFrame\n",
      "\n",
      "See the caveats in the documentation: https://pandas.pydata.org/pandas-docs/stable/user_guide/indexing.html#returning-a-view-versus-a-copy\n",
      "  iloc._setitem_with_indexer(indexer, value)\n",
      "C:\\Users\\goran\\Anaconda3\\envs\\tensor\\lib\\site-packages\\ipykernel_launcher.py:4: SettingWithCopyWarning: \n",
      "A value is trying to be set on a copy of a slice from a DataFrame\n",
      "\n",
      "See the caveats in the documentation: https://pandas.pydata.org/pandas-docs/stable/user_guide/indexing.html#returning-a-view-versus-a-copy\n",
      "  after removing the cwd from sys.path.\n",
      "C:\\Users\\goran\\Anaconda3\\envs\\tensor\\lib\\site-packages\\pandas\\core\\indexing.py:670: SettingWithCopyWarning: \n",
      "A value is trying to be set on a copy of a slice from a DataFrame\n",
      "\n",
      "See the caveats in the documentation: https://pandas.pydata.org/pandas-docs/stable/user_guide/indexing.html#returning-a-view-versus-a-copy\n",
      "  iloc._setitem_with_indexer(indexer, value)\n",
      "C:\\Users\\goran\\Anaconda3\\envs\\tensor\\lib\\site-packages\\ipykernel_launcher.py:5: SettingWithCopyWarning: \n",
      "A value is trying to be set on a copy of a slice from a DataFrame\n",
      "\n",
      "See the caveats in the documentation: https://pandas.pydata.org/pandas-docs/stable/user_guide/indexing.html#returning-a-view-versus-a-copy\n",
      "  \"\"\"\n"
     ]
    }
   ],
   "source": [
    "# train set 에 scaling 을 fitting 한 이후, train 에서와 같은 변환을 test 에도 해주어야한다.\n",
    "trans_col = ['temp','rain','google','naver','subway','holy','do1_pop','do2_pop','byun_pop','store']\n",
    "scaler.fit(X_train.loc[:,trans_col])\n",
    "X_train.loc[:,trans_col] = scaler.transform(X_train.loc[:,trans_col])\n",
    "X_test.loc[:,trans_col] = scaler.transform(X_test.loc[:,trans_col])\n",
    "# 아래는 WARNING만 주는거라 걱정안해도 된다.(자세한건 SettingWithCopyWarning 검색)"
   ]
  },
  {
   "cell_type": "markdown",
   "metadata": {},
   "source": [
    "## Correlation plot"
   ]
  },
  {
   "cell_type": "code",
   "execution_count": 19,
   "metadata": {},
   "outputs": [],
   "source": [
    "X_cor = X[['temp','rain','google','naver','subway','holy','do1_pop','do2_pop','byun_pop','store']]"
   ]
  },
  {
   "cell_type": "code",
   "execution_count": 20,
   "metadata": {},
   "outputs": [
    {
     "data": {
      "text/plain": [
       "<AxesSubplot:>"
      ]
     },
     "execution_count": 20,
     "metadata": {},
     "output_type": "execute_result"
    },
    {
     "data": {
      "image/png": "[encoded data removed]",
      "text/plain": [
       "<Figure size 1080x1080 with 2 Axes>"
      ]
     },
     "metadata": {
      "needs_background": "light"
     },
     "output_type": "display_data"
    }
   ],
   "source": [
    "plt.figure(figsize=(15,15))\n",
    "sns.heatmap(data = X_cor.corr(), annot=True, \n",
    "fmt = '.2f', linewidths=.5, cmap='RdYlBu_r',vmin=-1,vmax=1)"
   ]
  },
  {
   "cell_type": "code",
   "execution_count": 21,
   "metadata": {},
   "outputs": [
    {
     "data": {
      "text/html": [
       "<div>\n",
       "<style scoped>\n",
       "    .dataframe tbody tr th:only-of-type {\n",
       "        vertical-align: middle;\n",
       "    }\n",
       "\n",
       "    .dataframe tbody tr th {\n",
       "        vertical-align: top;\n",
       "    }\n",
       "\n",
       "    .dataframe thead th {\n",
       "        text-align: right;\n",
       "    }\n",
       "</style>\n",
       "<table border=\"1\" class=\"dataframe\">\n",
       "  <thead>\n",
       "    <tr style=\"text-align: right;\">\n",
       "      <th></th>\n",
       "      <th>temp</th>\n",
       "      <th>rain</th>\n",
       "      <th>google</th>\n",
       "      <th>naver</th>\n",
       "      <th>subway</th>\n",
       "      <th>holy</th>\n",
       "      <th>vacation</th>\n",
       "      <th>do1_pop</th>\n",
       "      <th>do2_pop</th>\n",
       "      <th>byun_pop</th>\n",
       "      <th>...</th>\n",
       "      <th>mon3</th>\n",
       "      <th>mon4</th>\n",
       "      <th>mon5</th>\n",
       "      <th>mon6</th>\n",
       "      <th>mon7</th>\n",
       "      <th>mon8</th>\n",
       "      <th>mon9</th>\n",
       "      <th>mon10</th>\n",
       "      <th>mon11</th>\n",
       "      <th>mon12</th>\n",
       "    </tr>\n",
       "  </thead>\n",
       "  <tbody>\n",
       "    <tr>\n",
       "      <th>801</th>\n",
       "      <td>-1.232665</td>\n",
       "      <td>-0.502136</td>\n",
       "      <td>-0.049334</td>\n",
       "      <td>-0.874331</td>\n",
       "      <td>0.903906</td>\n",
       "      <td>-0.22248</td>\n",
       "      <td>0.0</td>\n",
       "      <td>0.548946</td>\n",
       "      <td>0.105571</td>\n",
       "      <td>-0.066219</td>\n",
       "      <td>...</td>\n",
       "      <td>1.0</td>\n",
       "      <td>0.0</td>\n",
       "      <td>0.0</td>\n",
       "      <td>0.0</td>\n",
       "      <td>0.0</td>\n",
       "      <td>0.0</td>\n",
       "      <td>0.0</td>\n",
       "      <td>0.0</td>\n",
       "      <td>0.0</td>\n",
       "      <td>0.0</td>\n",
       "    </tr>\n",
       "    <tr>\n",
       "      <th>1679</th>\n",
       "      <td>0.846370</td>\n",
       "      <td>1.724104</td>\n",
       "      <td>0.963010</td>\n",
       "      <td>0.478670</td>\n",
       "      <td>-1.326573</td>\n",
       "      <td>-0.22248</td>\n",
       "      <td>0.0</td>\n",
       "      <td>-1.438669</td>\n",
       "      <td>-1.509246</td>\n",
       "      <td>-1.469638</td>\n",
       "      <td>...</td>\n",
       "      <td>0.0</td>\n",
       "      <td>0.0</td>\n",
       "      <td>0.0</td>\n",
       "      <td>0.0</td>\n",
       "      <td>0.0</td>\n",
       "      <td>0.0</td>\n",
       "      <td>1.0</td>\n",
       "      <td>0.0</td>\n",
       "      <td>0.0</td>\n",
       "      <td>0.0</td>\n",
       "    </tr>\n",
       "    <tr>\n",
       "      <th>1223</th>\n",
       "      <td>0.964609</td>\n",
       "      <td>-0.502136</td>\n",
       "      <td>1.165479</td>\n",
       "      <td>-0.486873</td>\n",
       "      <td>0.938632</td>\n",
       "      <td>-0.22248</td>\n",
       "      <td>0.0</td>\n",
       "      <td>-0.876976</td>\n",
       "      <td>-0.914451</td>\n",
       "      <td>-0.866281</td>\n",
       "      <td>...</td>\n",
       "      <td>0.0</td>\n",
       "      <td>0.0</td>\n",
       "      <td>0.0</td>\n",
       "      <td>1.0</td>\n",
       "      <td>0.0</td>\n",
       "      <td>0.0</td>\n",
       "      <td>0.0</td>\n",
       "      <td>0.0</td>\n",
       "      <td>0.0</td>\n",
       "      <td>0.0</td>\n",
       "    </tr>\n",
       "    <tr>\n",
       "      <th>1180</th>\n",
       "      <td>0.353708</td>\n",
       "      <td>-0.502136</td>\n",
       "      <td>0.857374</td>\n",
       "      <td>1.695379</td>\n",
       "      <td>-0.001330</td>\n",
       "      <td>-0.22248</td>\n",
       "      <td>0.0</td>\n",
       "      <td>-0.880313</td>\n",
       "      <td>-0.795753</td>\n",
       "      <td>-0.775494</td>\n",
       "      <td>...</td>\n",
       "      <td>0.0</td>\n",
       "      <td>1.0</td>\n",
       "      <td>0.0</td>\n",
       "      <td>0.0</td>\n",
       "      <td>0.0</td>\n",
       "      <td>0.0</td>\n",
       "      <td>0.0</td>\n",
       "      <td>0.0</td>\n",
       "      <td>0.0</td>\n",
       "      <td>0.0</td>\n",
       "    </tr>\n",
       "    <tr>\n",
       "      <th>22</th>\n",
       "      <td>-0.661177</td>\n",
       "      <td>-0.502136</td>\n",
       "      <td>-0.410257</td>\n",
       "      <td>0.005253</td>\n",
       "      <td>0.002672</td>\n",
       "      <td>-0.22248</td>\n",
       "      <td>0.0</td>\n",
       "      <td>1.453216</td>\n",
       "      <td>1.574298</td>\n",
       "      <td>1.573626</td>\n",
       "      <td>...</td>\n",
       "      <td>0.0</td>\n",
       "      <td>0.0</td>\n",
       "      <td>0.0</td>\n",
       "      <td>0.0</td>\n",
       "      <td>0.0</td>\n",
       "      <td>0.0</td>\n",
       "      <td>0.0</td>\n",
       "      <td>0.0</td>\n",
       "      <td>1.0</td>\n",
       "      <td>0.0</td>\n",
       "    </tr>\n",
       "    <tr>\n",
       "      <th>...</th>\n",
       "      <td>...</td>\n",
       "      <td>...</td>\n",
       "      <td>...</td>\n",
       "      <td>...</td>\n",
       "      <td>...</td>\n",
       "      <td>...</td>\n",
       "      <td>...</td>\n",
       "      <td>...</td>\n",
       "      <td>...</td>\n",
       "      <td>...</td>\n",
       "      <td>...</td>\n",
       "      <td>...</td>\n",
       "      <td>...</td>\n",
       "      <td>...</td>\n",
       "      <td>...</td>\n",
       "      <td>...</td>\n",
       "      <td>...</td>\n",
       "      <td>...</td>\n",
       "      <td>...</td>\n",
       "      <td>...</td>\n",
       "      <td>...</td>\n",
       "    </tr>\n",
       "    <tr>\n",
       "      <th>835</th>\n",
       "      <td>0.255175</td>\n",
       "      <td>-0.257622</td>\n",
       "      <td>-1.079285</td>\n",
       "      <td>-1.257647</td>\n",
       "      <td>0.913198</td>\n",
       "      <td>-0.22248</td>\n",
       "      <td>0.0</td>\n",
       "      <td>0.468863</td>\n",
       "      <td>0.023395</td>\n",
       "      <td>-0.158897</td>\n",
       "      <td>...</td>\n",
       "      <td>0.0</td>\n",
       "      <td>1.0</td>\n",
       "      <td>0.0</td>\n",
       "      <td>0.0</td>\n",
       "      <td>0.0</td>\n",
       "      <td>0.0</td>\n",
       "      <td>0.0</td>\n",
       "      <td>0.0</td>\n",
       "      <td>0.0</td>\n",
       "      <td>0.0</td>\n",
       "    </tr>\n",
       "    <tr>\n",
       "      <th>1216</th>\n",
       "      <td>0.422680</td>\n",
       "      <td>2.046195</td>\n",
       "      <td>1.015828</td>\n",
       "      <td>0.085454</td>\n",
       "      <td>0.522158</td>\n",
       "      <td>-0.22248</td>\n",
       "      <td>0.0</td>\n",
       "      <td>-0.866965</td>\n",
       "      <td>-0.905320</td>\n",
       "      <td>-0.853041</td>\n",
       "      <td>...</td>\n",
       "      <td>0.0</td>\n",
       "      <td>0.0</td>\n",
       "      <td>1.0</td>\n",
       "      <td>0.0</td>\n",
       "      <td>0.0</td>\n",
       "      <td>0.0</td>\n",
       "      <td>0.0</td>\n",
       "      <td>0.0</td>\n",
       "      <td>0.0</td>\n",
       "      <td>0.0</td>\n",
       "    </tr>\n",
       "    <tr>\n",
       "      <th>1653</th>\n",
       "      <td>1.467124</td>\n",
       "      <td>-0.064109</td>\n",
       "      <td>1.860915</td>\n",
       "      <td>1.668674</td>\n",
       "      <td>-0.395424</td>\n",
       "      <td>-0.22248</td>\n",
       "      <td>1.0</td>\n",
       "      <td>-1.438669</td>\n",
       "      <td>-1.500116</td>\n",
       "      <td>-1.437484</td>\n",
       "      <td>...</td>\n",
       "      <td>0.0</td>\n",
       "      <td>0.0</td>\n",
       "      <td>0.0</td>\n",
       "      <td>0.0</td>\n",
       "      <td>0.0</td>\n",
       "      <td>1.0</td>\n",
       "      <td>0.0</td>\n",
       "      <td>0.0</td>\n",
       "      <td>0.0</td>\n",
       "      <td>0.0</td>\n",
       "    </tr>\n",
       "    <tr>\n",
       "      <th>559</th>\n",
       "      <td>0.767544</td>\n",
       "      <td>-0.502136</td>\n",
       "      <td>-0.744771</td>\n",
       "      <td>0.288507</td>\n",
       "      <td>-0.807011</td>\n",
       "      <td>-0.22248</td>\n",
       "      <td>0.0</td>\n",
       "      <td>0.733581</td>\n",
       "      <td>0.807325</td>\n",
       "      <td>0.556052</td>\n",
       "      <td>...</td>\n",
       "      <td>0.0</td>\n",
       "      <td>0.0</td>\n",
       "      <td>1.0</td>\n",
       "      <td>0.0</td>\n",
       "      <td>0.0</td>\n",
       "      <td>0.0</td>\n",
       "      <td>0.0</td>\n",
       "      <td>0.0</td>\n",
       "      <td>0.0</td>\n",
       "      <td>0.0</td>\n",
       "    </tr>\n",
       "    <tr>\n",
       "      <th>684</th>\n",
       "      <td>0.245322</td>\n",
       "      <td>-0.502136</td>\n",
       "      <td>-0.410257</td>\n",
       "      <td>-0.971483</td>\n",
       "      <td>0.933767</td>\n",
       "      <td>-0.22248</td>\n",
       "      <td>0.0</td>\n",
       "      <td>0.728020</td>\n",
       "      <td>0.567320</td>\n",
       "      <td>0.423654</td>\n",
       "      <td>...</td>\n",
       "      <td>0.0</td>\n",
       "      <td>0.0</td>\n",
       "      <td>0.0</td>\n",
       "      <td>0.0</td>\n",
       "      <td>0.0</td>\n",
       "      <td>0.0</td>\n",
       "      <td>0.0</td>\n",
       "      <td>1.0</td>\n",
       "      <td>0.0</td>\n",
       "      <td>0.0</td>\n",
       "    </tr>\n",
       "  </tbody>\n",
       "</table>\n",
       "<p>1357 rows × 30 columns</p>\n",
       "</div>"
      ],
      "text/plain": [
       "          temp      rain    google     naver    subway     holy  vacation  \\\n",
       "801  -1.232665 -0.502136 -0.049334 -0.874331  0.903906 -0.22248       0.0   \n",
       "1679  0.846370  1.724104  0.963010  0.478670 -1.326573 -0.22248       0.0   \n",
       "1223  0.964609 -0.502136  1.165479 -0.486873  0.938632 -0.22248       0.0   \n",
       "1180  0.353708 -0.502136  0.857374  1.695379 -0.001330 -0.22248       0.0   \n",
       "22   -0.661177 -0.502136 -0.410257  0.005253  0.002672 -0.22248       0.0   \n",
       "...        ...       ...       ...       ...       ...      ...       ...   \n",
       "835   0.255175 -0.257622 -1.079285 -1.257647  0.913198 -0.22248       0.0   \n",
       "1216  0.422680  2.046195  1.015828  0.085454  0.522158 -0.22248       0.0   \n",
       "1653  1.467124 -0.064109  1.860915  1.668674 -0.395424 -0.22248       1.0   \n",
       "559   0.767544 -0.502136 -0.744771  0.288507 -0.807011 -0.22248       0.0   \n",
       "684   0.245322 -0.502136 -0.410257 -0.971483  0.933767 -0.22248       0.0   \n",
       "\n",
       "       do1_pop   do2_pop  byun_pop  ...  mon3  mon4  mon5  mon6  mon7  mon8  \\\n",
       "801   0.548946  0.105571 -0.066219  ...   1.0   0.0   0.0   0.0   0.0   0.0   \n",
       "1679 -1.438669 -1.509246 -1.469638  ...   0.0   0.0   0.0   0.0   0.0   0.0   \n",
       "1223 -0.876976 -0.914451 -0.866281  ...   0.0   0.0   0.0   1.0   0.0   0.0   \n",
       "1180 -0.880313 -0.795753 -0.775494  ...   0.0   1.0   0.0   0.0   0.0   0.0   \n",
       "22    1.453216  1.574298  1.573626  ...   0.0   0.0   0.0   0.0   0.0   0.0   \n",
       "...        ...       ...       ...  ...   ...   ...   ...   ...   ...   ...   \n",
       "835   0.468863  0.023395 -0.158897  ...   0.0   1.0   0.0   0.0   0.0   0.0   \n",
       "1216 -0.866965 -0.905320 -0.853041  ...   0.0   0.0   1.0   0.0   0.0   0.0   \n",
       "1653 -1.438669 -1.500116 -1.437484  ...   0.0   0.0   0.0   0.0   0.0   1.0   \n",
       "559   0.733581  0.807325  0.556052  ...   0.0   0.0   1.0   0.0   0.0   0.0   \n",
       "684   0.728020  0.567320  0.423654  ...   0.0   0.0   0.0   0.0   0.0   0.0   \n",
       "\n",
       "      mon9  mon10  mon11  mon12  \n",
       "801    0.0    0.0    0.0    0.0  \n",
       "1679   1.0    0.0    0.0    0.0  \n",
       "1223   0.0    0.0    0.0    0.0  \n",
       "1180   0.0    0.0    0.0    0.0  \n",
       "22     0.0    0.0    1.0    0.0  \n",
       "...    ...    ...    ...    ...  \n",
       "835    0.0    0.0    0.0    0.0  \n",
       "1216   0.0    0.0    0.0    0.0  \n",
       "1653   0.0    0.0    0.0    0.0  \n",
       "559    0.0    0.0    0.0    0.0  \n",
       "684    0.0    1.0    0.0    0.0  \n",
       "\n",
       "[1357 rows x 30 columns]"
      ]
     },
     "execution_count": 21,
     "metadata": {},
     "output_type": "execute_result"
    }
   ],
   "source": [
    "X_train"
   ]
  },
  {
   "cell_type": "code",
   "execution_count": 22,
   "metadata": {},
   "outputs": [
    {
     "data": {
      "text/html": [
       "<div>\n",
       "<style scoped>\n",
       "    .dataframe tbody tr th:only-of-type {\n",
       "        vertical-align: middle;\n",
       "    }\n",
       "\n",
       "    .dataframe tbody tr th {\n",
       "        vertical-align: top;\n",
       "    }\n",
       "\n",
       "    .dataframe thead th {\n",
       "        text-align: right;\n",
       "    }\n",
       "</style>\n",
       "<table border=\"1\" class=\"dataframe\">\n",
       "  <thead>\n",
       "    <tr style=\"text-align: right;\">\n",
       "      <th></th>\n",
       "      <th>temp</th>\n",
       "      <th>rain</th>\n",
       "      <th>google</th>\n",
       "      <th>naver</th>\n",
       "      <th>subway</th>\n",
       "      <th>holy</th>\n",
       "      <th>vacation</th>\n",
       "      <th>do1_pop</th>\n",
       "      <th>do2_pop</th>\n",
       "      <th>byun_pop</th>\n",
       "      <th>...</th>\n",
       "      <th>mon3</th>\n",
       "      <th>mon4</th>\n",
       "      <th>mon5</th>\n",
       "      <th>mon6</th>\n",
       "      <th>mon7</th>\n",
       "      <th>mon8</th>\n",
       "      <th>mon9</th>\n",
       "      <th>mon10</th>\n",
       "      <th>mon11</th>\n",
       "      <th>mon12</th>\n",
       "    </tr>\n",
       "  </thead>\n",
       "  <tbody>\n",
       "    <tr>\n",
       "      <th>1018</th>\n",
       "      <td>-0.542938</td>\n",
       "      <td>-0.502136</td>\n",
       "      <td>0.012287</td>\n",
       "      <td>-0.202550</td>\n",
       "      <td>0.985420</td>\n",
       "      <td>-0.22248</td>\n",
       "      <td>0.0</td>\n",
       "      <td>-0.645625</td>\n",
       "      <td>-0.271394</td>\n",
       "      <td>-0.527720</td>\n",
       "      <td>...</td>\n",
       "      <td>0.0</td>\n",
       "      <td>0.0</td>\n",
       "      <td>0.0</td>\n",
       "      <td>0.0</td>\n",
       "      <td>0.0</td>\n",
       "      <td>0.0</td>\n",
       "      <td>0.0</td>\n",
       "      <td>1.0</td>\n",
       "      <td>0.0</td>\n",
       "      <td>0.0</td>\n",
       "    </tr>\n",
       "    <tr>\n",
       "      <th>6</th>\n",
       "      <td>-0.010863</td>\n",
       "      <td>0.940136</td>\n",
       "      <td>-1.079285</td>\n",
       "      <td>0.005253</td>\n",
       "      <td>0.002672</td>\n",
       "      <td>-0.22248</td>\n",
       "      <td>0.0</td>\n",
       "      <td>1.488808</td>\n",
       "      <td>1.636908</td>\n",
       "      <td>1.609563</td>\n",
       "      <td>...</td>\n",
       "      <td>0.0</td>\n",
       "      <td>0.0</td>\n",
       "      <td>0.0</td>\n",
       "      <td>0.0</td>\n",
       "      <td>0.0</td>\n",
       "      <td>0.0</td>\n",
       "      <td>0.0</td>\n",
       "      <td>0.0</td>\n",
       "      <td>1.0</td>\n",
       "      <td>0.0</td>\n",
       "    </tr>\n",
       "    <tr>\n",
       "      <th>107</th>\n",
       "      <td>-1.508556</td>\n",
       "      <td>-0.502136</td>\n",
       "      <td>-1.035270</td>\n",
       "      <td>-0.173313</td>\n",
       "      <td>0.002672</td>\n",
       "      <td>-0.22248</td>\n",
       "      <td>1.0</td>\n",
       "      <td>1.260794</td>\n",
       "      <td>1.263856</td>\n",
       "      <td>1.590649</td>\n",
       "      <td>...</td>\n",
       "      <td>0.0</td>\n",
       "      <td>0.0</td>\n",
       "      <td>0.0</td>\n",
       "      <td>0.0</td>\n",
       "      <td>0.0</td>\n",
       "      <td>0.0</td>\n",
       "      <td>0.0</td>\n",
       "      <td>0.0</td>\n",
       "      <td>0.0</td>\n",
       "      <td>0.0</td>\n",
       "    </tr>\n",
       "    <tr>\n",
       "      <th>34</th>\n",
       "      <td>-0.621764</td>\n",
       "      <td>-0.502136</td>\n",
       "      <td>-0.832801</td>\n",
       "      <td>0.005253</td>\n",
       "      <td>0.002672</td>\n",
       "      <td>-0.22248</td>\n",
       "      <td>0.0</td>\n",
       "      <td>1.420960</td>\n",
       "      <td>1.511688</td>\n",
       "      <td>1.550929</td>\n",
       "      <td>...</td>\n",
       "      <td>0.0</td>\n",
       "      <td>0.0</td>\n",
       "      <td>0.0</td>\n",
       "      <td>0.0</td>\n",
       "      <td>0.0</td>\n",
       "      <td>0.0</td>\n",
       "      <td>0.0</td>\n",
       "      <td>0.0</td>\n",
       "      <td>0.0</td>\n",
       "      <td>1.0</td>\n",
       "    </tr>\n",
       "    <tr>\n",
       "      <th>1686</th>\n",
       "      <td>0.787250</td>\n",
       "      <td>1.136124</td>\n",
       "      <td>0.575678</td>\n",
       "      <td>0.088216</td>\n",
       "      <td>-1.213844</td>\n",
       "      <td>-0.22248</td>\n",
       "      <td>0.0</td>\n",
       "      <td>-1.438669</td>\n",
       "      <td>-1.509246</td>\n",
       "      <td>-1.469638</td>\n",
       "      <td>...</td>\n",
       "      <td>0.0</td>\n",
       "      <td>0.0</td>\n",
       "      <td>0.0</td>\n",
       "      <td>0.0</td>\n",
       "      <td>0.0</td>\n",
       "      <td>0.0</td>\n",
       "      <td>1.0</td>\n",
       "      <td>0.0</td>\n",
       "      <td>0.0</td>\n",
       "      <td>0.0</td>\n",
       "    </tr>\n",
       "    <tr>\n",
       "      <th>...</th>\n",
       "      <td>...</td>\n",
       "      <td>...</td>\n",
       "      <td>...</td>\n",
       "      <td>...</td>\n",
       "      <td>...</td>\n",
       "      <td>...</td>\n",
       "      <td>...</td>\n",
       "      <td>...</td>\n",
       "      <td>...</td>\n",
       "      <td>...</td>\n",
       "      <td>...</td>\n",
       "      <td>...</td>\n",
       "      <td>...</td>\n",
       "      <td>...</td>\n",
       "      <td>...</td>\n",
       "      <td>...</td>\n",
       "      <td>...</td>\n",
       "      <td>...</td>\n",
       "      <td>...</td>\n",
       "      <td>...</td>\n",
       "      <td>...</td>\n",
       "    </tr>\n",
       "    <tr>\n",
       "      <th>315</th>\n",
       "      <td>0.540919</td>\n",
       "      <td>-0.502136</td>\n",
       "      <td>-1.237739</td>\n",
       "      <td>-1.241071</td>\n",
       "      <td>0.002672</td>\n",
       "      <td>-0.22248</td>\n",
       "      <td>0.0</td>\n",
       "      <td>1.053913</td>\n",
       "      <td>1.119071</td>\n",
       "      <td>1.257762</td>\n",
       "      <td>...</td>\n",
       "      <td>0.0</td>\n",
       "      <td>0.0</td>\n",
       "      <td>0.0</td>\n",
       "      <td>0.0</td>\n",
       "      <td>0.0</td>\n",
       "      <td>0.0</td>\n",
       "      <td>1.0</td>\n",
       "      <td>0.0</td>\n",
       "      <td>0.0</td>\n",
       "      <td>0.0</td>\n",
       "    </tr>\n",
       "    <tr>\n",
       "      <th>578</th>\n",
       "      <td>1.151821</td>\n",
       "      <td>-0.502136</td>\n",
       "      <td>0.117923</td>\n",
       "      <td>0.838502</td>\n",
       "      <td>-1.359423</td>\n",
       "      <td>-0.22248</td>\n",
       "      <td>0.0</td>\n",
       "      <td>0.713561</td>\n",
       "      <td>0.747324</td>\n",
       "      <td>0.487962</td>\n",
       "      <td>...</td>\n",
       "      <td>0.0</td>\n",
       "      <td>0.0</td>\n",
       "      <td>0.0</td>\n",
       "      <td>1.0</td>\n",
       "      <td>0.0</td>\n",
       "      <td>0.0</td>\n",
       "      <td>0.0</td>\n",
       "      <td>0.0</td>\n",
       "      <td>0.0</td>\n",
       "      <td>0.0</td>\n",
       "    </tr>\n",
       "    <tr>\n",
       "      <th>170</th>\n",
       "      <td>-0.030569</td>\n",
       "      <td>2.104829</td>\n",
       "      <td>-1.008861</td>\n",
       "      <td>-0.465232</td>\n",
       "      <td>0.002672</td>\n",
       "      <td>-0.22248</td>\n",
       "      <td>0.0</td>\n",
       "      <td>1.210742</td>\n",
       "      <td>1.142550</td>\n",
       "      <td>1.429880</td>\n",
       "      <td>...</td>\n",
       "      <td>0.0</td>\n",
       "      <td>1.0</td>\n",
       "      <td>0.0</td>\n",
       "      <td>0.0</td>\n",
       "      <td>0.0</td>\n",
       "      <td>0.0</td>\n",
       "      <td>0.0</td>\n",
       "      <td>0.0</td>\n",
       "      <td>0.0</td>\n",
       "      <td>0.0</td>\n",
       "    </tr>\n",
       "    <tr>\n",
       "      <th>1635</th>\n",
       "      <td>1.023728</td>\n",
       "      <td>-0.188556</td>\n",
       "      <td>2.028172</td>\n",
       "      <td>1.255890</td>\n",
       "      <td>-2.658534</td>\n",
       "      <td>-0.22248</td>\n",
       "      <td>1.0</td>\n",
       "      <td>-1.438669</td>\n",
       "      <td>-1.480550</td>\n",
       "      <td>-1.401548</td>\n",
       "      <td>...</td>\n",
       "      <td>0.0</td>\n",
       "      <td>0.0</td>\n",
       "      <td>0.0</td>\n",
       "      <td>0.0</td>\n",
       "      <td>1.0</td>\n",
       "      <td>0.0</td>\n",
       "      <td>0.0</td>\n",
       "      <td>0.0</td>\n",
       "      <td>0.0</td>\n",
       "      <td>0.0</td>\n",
       "    </tr>\n",
       "    <tr>\n",
       "      <th>1014</th>\n",
       "      <td>-0.326166</td>\n",
       "      <td>-0.332219</td>\n",
       "      <td>-0.163773</td>\n",
       "      <td>1.501994</td>\n",
       "      <td>0.359019</td>\n",
       "      <td>-0.22248</td>\n",
       "      <td>0.0</td>\n",
       "      <td>-0.627829</td>\n",
       "      <td>-0.266176</td>\n",
       "      <td>-0.527720</td>\n",
       "      <td>...</td>\n",
       "      <td>0.0</td>\n",
       "      <td>0.0</td>\n",
       "      <td>0.0</td>\n",
       "      <td>0.0</td>\n",
       "      <td>0.0</td>\n",
       "      <td>0.0</td>\n",
       "      <td>0.0</td>\n",
       "      <td>1.0</td>\n",
       "      <td>0.0</td>\n",
       "      <td>0.0</td>\n",
       "    </tr>\n",
       "  </tbody>\n",
       "</table>\n",
       "<p>340 rows × 30 columns</p>\n",
       "</div>"
      ],
      "text/plain": [
       "          temp      rain    google     naver    subway     holy  vacation  \\\n",
       "1018 -0.542938 -0.502136  0.012287 -0.202550  0.985420 -0.22248       0.0   \n",
       "6    -0.010863  0.940136 -1.079285  0.005253  0.002672 -0.22248       0.0   \n",
       "107  -1.508556 -0.502136 -1.035270 -0.173313  0.002672 -0.22248       1.0   \n",
       "34   -0.621764 -0.502136 -0.832801  0.005253  0.002672 -0.22248       0.0   \n",
       "1686  0.787250  1.136124  0.575678  0.088216 -1.213844 -0.22248       0.0   \n",
       "...        ...       ...       ...       ...       ...      ...       ...   \n",
       "315   0.540919 -0.502136 -1.237739 -1.241071  0.002672 -0.22248       0.0   \n",
       "578   1.151821 -0.502136  0.117923  0.838502 -1.359423 -0.22248       0.0   \n",
       "170  -0.030569  2.104829 -1.008861 -0.465232  0.002672 -0.22248       0.0   \n",
       "1635  1.023728 -0.188556  2.028172  1.255890 -2.658534 -0.22248       1.0   \n",
       "1014 -0.326166 -0.332219 -0.163773  1.501994  0.359019 -0.22248       0.0   \n",
       "\n",
       "       do1_pop   do2_pop  byun_pop  ...  mon3  mon4  mon5  mon6  mon7  mon8  \\\n",
       "1018 -0.645625 -0.271394 -0.527720  ...   0.0   0.0   0.0   0.0   0.0   0.0   \n",
       "6     1.488808  1.636908  1.609563  ...   0.0   0.0   0.0   0.0   0.0   0.0   \n",
       "107   1.260794  1.263856  1.590649  ...   0.0   0.0   0.0   0.0   0.0   0.0   \n",
       "34    1.420960  1.511688  1.550929  ...   0.0   0.0   0.0   0.0   0.0   0.0   \n",
       "1686 -1.438669 -1.509246 -1.469638  ...   0.0   0.0   0.0   0.0   0.0   0.0   \n",
       "...        ...       ...       ...  ...   ...   ...   ...   ...   ...   ...   \n",
       "315   1.053913  1.119071  1.257762  ...   0.0   0.0   0.0   0.0   0.0   0.0   \n",
       "578   0.713561  0.747324  0.487962  ...   0.0   0.0   0.0   1.0   0.0   0.0   \n",
       "170   1.210742  1.142550  1.429880  ...   0.0   1.0   0.0   0.0   0.0   0.0   \n",
       "1635 -1.438669 -1.480550 -1.401548  ...   0.0   0.0   0.0   0.0   1.0   0.0   \n",
       "1014 -0.627829 -0.266176 -0.527720  ...   0.0   0.0   0.0   0.0   0.0   0.0   \n",
       "\n",
       "      mon9  mon10  mon11  mon12  \n",
       "1018   0.0    1.0    0.0    0.0  \n",
       "6      0.0    0.0    1.0    0.0  \n",
       "107    0.0    0.0    0.0    0.0  \n",
       "34     0.0    0.0    0.0    1.0  \n",
       "1686   1.0    0.0    0.0    0.0  \n",
       "...    ...    ...    ...    ...  \n",
       "315    1.0    0.0    0.0    0.0  \n",
       "578    0.0    0.0    0.0    0.0  \n",
       "170    0.0    0.0    0.0    0.0  \n",
       "1635   0.0    0.0    0.0    0.0  \n",
       "1014   0.0    1.0    0.0    0.0  \n",
       "\n",
       "[340 rows x 30 columns]"
      ]
     },
     "execution_count": 22,
     "metadata": {},
     "output_type": "execute_result"
    }
   ],
   "source": [
    "X_test"
   ]
  },
  {
   "cell_type": "code",
   "execution_count": 23,
   "metadata": {
    "scrolled": false
   },
   "outputs": [
    {
     "data": {
      "text/plain": [
       "0"
      ]
     },
     "execution_count": 23,
     "metadata": {},
     "output_type": "execute_result"
    }
   ],
   "source": [
    "# na 값은 없다.\n",
    "X_test.isnull().sum().sum()"
   ]
  },
  {
   "cell_type": "code",
   "execution_count": 24,
   "metadata": {},
   "outputs": [],
   "source": [
    "# 예측값 저장 dictionary\n",
    "Data = { 'y_test' : y_test }"
   ]
  },
  {
   "cell_type": "code",
   "execution_count": 25,
   "metadata": {},
   "outputs": [],
   "source": [
    "# 평가값 저장 dictionary\n",
    "score = {}"
   ]
  },
  {
   "cell_type": "markdown",
   "metadata": {},
   "source": [
    "# Multi Linear Regression"
   ]
  },
  {
   "cell_type": "code",
   "execution_count": 26,
   "metadata": {
    "ExecuteTime": {
     "end_time": "2020-08-02T09:25:40.053254Z",
     "start_time": "2020-08-02T09:25:39.966332Z"
    },
    "scrolled": false
   },
   "outputs": [
    {
     "data": {
      "text/plain": [
       "LinearRegression()"
      ]
     },
     "execution_count": 26,
     "metadata": {},
     "output_type": "execute_result"
    }
   ],
   "source": [
    "from sklearn.linear_model import LinearRegression\n",
    "model = LinearRegression()\n",
    "model.fit(X_train, y_train)"
   ]
  },
  {
   "cell_type": "code",
   "execution_count": 27,
   "metadata": {
    "ExecuteTime": {
     "end_time": "2020-08-02T09:25:40.663642Z",
     "start_time": "2020-08-02T09:25:40.641508Z"
    }
   },
   "outputs": [
    {
     "name": "stdout",
     "output_type": "stream",
     "text": [
      "MSE : 115.87375882979677\n",
      "R squared : 0.5077488263894528\n"
     ]
    }
   ],
   "source": [
    "from sklearn import metrics\n",
    "y_pred = model.predict(X_test)\n",
    "print (\"MSE :\", metrics.mean_squared_error(y_test,y_pred))\n",
    "print(\"R squared :\", metrics.r2_score(y_test,y_pred))\n",
    "score['linear'] =  [metrics.mean_squared_error(y_test,y_pred), model.score(X_test, y_test)]\n",
    "Data['linear'] = y_pred "
   ]
  },
  {
   "cell_type": "code",
   "execution_count": 28,
   "metadata": {
    "scrolled": true
   },
   "outputs": [
    {
     "data": {
      "text/plain": [
       "Text(0.5, 1.0, 'Coefficients in the Model')"
      ]
     },
     "execution_count": 28,
     "metadata": {},
     "output_type": "execute_result"
    },
    {
     "data": {
      "image/png": "[encoded data removed]",
      "text/plain": [
       "<Figure size 432x288 with 1 Axes>"
      ]
     },
     "metadata": {
      "needs_background": "light"
     },
     "output_type": "display_data"
    }
   ],
   "source": [
    "coef = pd.Series(model.coef_, index = X_train.columns).sort_values()\n",
    "imp_coef = pd.concat([coef.head(10), coef.tail(10)])\n",
    "imp_coef.plot(kind = \"barh\")\n",
    "plt.title(\"Coefficients in the Model\")"
   ]
  },
  {
   "cell_type": "markdown",
   "metadata": {},
   "source": [
    "# Ridge regression"
   ]
  },
  {
   "cell_type": "markdown",
   "metadata": {},
   "source": [
    "$w = \\text{arg}\\min_w \\left( \\sum_{i=1}^N e_i^2 + \\lambda \\sum_{j=1}^M w_j^2 \\right) $"
   ]
  },
  {
   "cell_type": "code",
   "execution_count": 29,
   "metadata": {
    "ExecuteTime": {
     "end_time": "2020-08-02T09:26:03.951055Z",
     "start_time": "2020-08-02T09:26:03.291571Z"
    }
   },
   "outputs": [],
   "source": [
    "from sklearn.linear_model import RidgeCV\n",
    "from sklearn.linear_model import Ridge\n",
    "\n",
    "para_range = np.logspace(-3, 3, num=50) # 10^-3 ~ 10^3 \n",
    "model = RidgeCV(alphas = para_range , cv=5)\n",
    "# cross validaaion 을 5 fold cross validation 으로 지정 , \n",
    "# para_range 의 범위만큼 ,cv 를 해서 최적의 alpha를 구하려하였다.\n",
    "model.fit(X_train, y_train) ;"
   ]
  },
  {
   "cell_type": "code",
   "execution_count": 30,
   "metadata": {
    "ExecuteTime": {
     "end_time": "2020-08-02T09:26:03.966012Z",
     "start_time": "2020-08-02T09:26:03.953048Z"
    },
    "scrolled": false
   },
   "outputs": [
    {
     "name": "stdout",
     "output_type": "stream",
     "text": [
      "best_alpha : 59.636233165946365\n",
      "MSE : 115.78052629560398\n",
      "R_squared : 0.5081448938411224\n"
     ]
    }
   ],
   "source": [
    "from sklearn import metrics\n",
    "\n",
    "predicted = model.predict(X_test) \n",
    "# 우리가 fitting 한 coefficient 로 X_test 를 이용해 Y_test 를 predict\n",
    "#ridgecv.alpha_ # Estimated regularization parametor (최적값)\n",
    "\n",
    "print('best_alpha :',model.alpha_) \n",
    "print (\"MSE :\", metrics.mean_squared_error(y_test, predicted))\n",
    "print('R_squared :',model.score(X_test, y_test)) # C-V 로 찾은 최적의 ridge 로 계산한 R^2"
   ]
  },
  {
   "cell_type": "code",
   "execution_count": 31,
   "metadata": {},
   "outputs": [],
   "source": [
    "# 데이터 저장\n",
    "score['Ridge'] =  [metrics.mean_squared_error(y_test, predicted),model.score(X_test, y_test)]\n",
    "Data['Ridge'] = y_pred "
   ]
  },
  {
   "cell_type": "code",
   "execution_count": 32,
   "metadata": {
    "ExecuteTime": {
     "end_time": "2020-08-02T10:27:52.392414Z",
     "start_time": "2020-08-02T10:27:52.193433Z"
    }
   },
   "outputs": [
    {
     "data": {
      "text/plain": [
       "Text(0.5, 1.0, 'Coefficients in the Model')"
      ]
     },
     "execution_count": 32,
     "metadata": {},
     "output_type": "execute_result"
    },
    {
     "data": {
      "image/png": "[encoded data removed]",
      "text/plain": [
       "<Figure size 432x288 with 1 Axes>"
      ]
     },
     "metadata": {
      "needs_background": "light"
     },
     "output_type": "display_data"
    }
   ],
   "source": [
    "# 변수의 계수 시각화\n",
    "coef = pd.Series(model.coef_, index = X_train.columns).sort_values()\n",
    "imp_coef = pd.concat([coef.head(10), coef.tail(10)])\n",
    "imp_coef.plot(kind = \"barh\")\n",
    "plt.title(\"Coefficients in the Model\")"
   ]
  },
  {
   "cell_type": "markdown",
   "metadata": {},
   "source": [
    "# lasso regression"
   ]
  },
  {
   "cell_type": "markdown",
   "metadata": {},
   "source": [
    "$w = \\text{arg}\\min_w \\left( \\sum_{i=1}^N e_i^2 + \\lambda \\sum_{j=1}^M | w_j | \\right)$"
   ]
  },
  {
   "cell_type": "code",
   "execution_count": 34,
   "metadata": {},
   "outputs": [],
   "source": [
    "from sklearn.linear_model import LassoCV\n",
    "from sklearn.linear_model import Lasso\n",
    "alphas = np.logspace(-3, 3, num=50) # 10^-3 ~ 10^3 \n",
    "lassocv = LassoCV(alphas = alphas, cv=5)\n",
    "# 위 ridge 때와 동일\n",
    "lassocv.fit(X_train, y_train) ;"
   ]
  },
  {
   "cell_type": "code",
   "execution_count": 35,
   "metadata": {
    "scrolled": true
   },
   "outputs": [
    {
     "name": "stdout",
     "output_type": "stream",
     "text": [
      "best_alpha : 0.0517947467923121\n",
      "MSE : 114.83521939143081\n",
      "R_squared : 0.5121607162128201\n"
     ]
    }
   ],
   "source": [
    "from sklearn import metrics\n",
    "predicted = lassocv.predict(X_test) \n",
    "#lassocv.alpha_ # Estimated regularization parametor (최적값)\n",
    "print('best_alpha :',lassocv.alpha_) \n",
    "print (\"MSE :\", metrics.mean_squared_error(y_test, predicted))\n",
    "print('R_squared :',lassocv.score(X_test, y_test)) # C-V 로 찾은 최적의 ridge 로 계산한 R^2"
   ]
  },
  {
   "cell_type": "code",
   "execution_count": 36,
   "metadata": {},
   "outputs": [],
   "source": [
    "score['lasso'] = [metrics.mean_squared_error(y_test, predicted), model.score(X_test, y_test)]\n",
    "Data['lasso'] = y_pred "
   ]
  },
  {
   "cell_type": "code",
   "execution_count": 37,
   "metadata": {
    "scrolled": false
   },
   "outputs": [
    {
     "data": {
      "text/plain": [
       "Text(0.5, 1.0, 'Coefficients in the Model')"
      ]
     },
     "execution_count": 37,
     "metadata": {},
     "output_type": "execute_result"
    },
    {
     "data": {
      "image/png": "[encoded data removed]",
      "text/plain": [
       "<Figure size 432x288 with 1 Axes>"
      ]
     },
     "metadata": {
      "needs_background": "light"
     },
     "output_type": "display_data"
    }
   ],
   "source": [
    "# 계수 시각화\n",
    "coef = pd.Series(lassocv.coef_, index = X_train.columns).sort_values()\n",
    "imp_coef = pd.concat([coef.head(10), coef.tail(15)])\n",
    "imp_coef.plot(kind = \"barh\")\n",
    "plt.title(\"Coefficients in the Model\")"
   ]
  },
  {
   "cell_type": "markdown",
   "metadata": {},
   "source": [
    "# K-Neighbors Regression"
   ]
  },
  {
   "cell_type": "code",
   "execution_count": 38,
   "metadata": {},
   "outputs": [
    {
     "data": {
      "text/plain": [
       "GridSearchCV(cv=5, estimator=KNeighborsRegressor(),\n",
       "             param_grid={'n_neighbors': array([1, 2, 3, 4, 5, 6, 7, 8, 9])})"
      ]
     },
     "execution_count": 38,
     "metadata": {},
     "output_type": "execute_result"
    }
   ],
   "source": [
    "from sklearn.neighbors import KNeighborsRegressor\n",
    "from sklearn.model_selection import GridSearchCV\n",
    "model = KNeighborsRegressor() \n",
    "param_grid ={'n_neighbors' : np.arange(1,10)}\n",
    "model = GridSearchCV(model,param_grid,cv=5)\n",
    "model.fit(X_train,y_train)"
   ]
  },
  {
   "cell_type": "code",
   "execution_count": 39,
   "metadata": {},
   "outputs": [
    {
     "name": "stdout",
     "output_type": "stream",
     "text": [
      "best N : {'n_neighbors': 9}\n",
      "MSE : 110.66125635439359\n",
      "R squared : 0.5298924116746597\n"
     ]
    }
   ],
   "source": [
    "y_pred = model.predict(X_test)\n",
    "print('best N :' ,model.best_params_)\n",
    "print (\"MSE :\", metrics.mean_squared_error(y_test, y_pred))\n",
    "print(\"R squared :\", metrics.r2_score(y_test, y_pred))"
   ]
  },
  {
   "cell_type": "code",
   "execution_count": 40,
   "metadata": {},
   "outputs": [],
   "source": [
    "score['K-NN'] =  [metrics.mean_squared_error(y_test, y_pred), model.score(X_test, y_test)]\n",
    "Data['K-NN'] = y_pred "
   ]
  },
  {
   "cell_type": "markdown",
   "metadata": {},
   "source": [
    "# RandomForest Regressoion"
   ]
  },
  {
   "cell_type": "code",
   "execution_count": 41,
   "metadata": {},
   "outputs": [
    {
     "data": {
      "text/plain": [
       "RandomForestRegressor(random_state=42)"
      ]
     },
     "execution_count": 41,
     "metadata": {},
     "output_type": "execute_result"
    }
   ],
   "source": [
    "from sklearn.ensemble import RandomForestRegressor\n",
    "model =  RandomForestRegressor(random_state=42)\n",
    "model.fit(X_train,y_train)"
   ]
  },
  {
   "cell_type": "code",
   "execution_count": 42,
   "metadata": {
    "scrolled": false
   },
   "outputs": [
    {
     "name": "stdout",
     "output_type": "stream",
     "text": [
      "MSE : 91.9599994117647\n",
      "R_squared : 0.6093384896388988\n"
     ]
    }
   ],
   "source": [
    "y_pred = model.predict(X_test)\n",
    "print (\"MSE :\", metrics.mean_squared_error(y_test, y_pred))\n",
    "print('R_squared :',model.score(X_test, y_test)) "
   ]
  },
  {
   "cell_type": "code",
   "execution_count": 43,
   "metadata": {},
   "outputs": [],
   "source": [
    "score['random_forest'] =  [metrics.mean_squared_error(y_test, y_pred), model.score(X_test, y_test)]\n",
    "Data['random_forest'] = y_pred "
   ]
  },
  {
   "cell_type": "code",
   "execution_count": 44,
   "metadata": {
    "scrolled": false
   },
   "outputs": [
    {
     "data": {
      "text/plain": [
       "<AxesSubplot:>"
      ]
     },
     "execution_count": 44,
     "metadata": {},
     "output_type": "execute_result"
    },
    {
     "data": {
      "image/png": "[encoded data removed]",
      "text/plain": [
       "<Figure size 432x288 with 1 Axes>"
      ]
     },
     "metadata": {
      "needs_background": "light"
     },
     "output_type": "display_data"
    }
   ],
   "source": [
    "feat_importances = pd.Series(model.feature_importances_, index= X.columns)\n",
    "feat_importances.nlargest(15).plot(kind='barh')"
   ]
  },
  {
   "cell_type": "markdown",
   "metadata": {},
   "source": [
    "# Gradient Boosting resgressoion"
   ]
  },
  {
   "cell_type": "code",
   "execution_count": 45,
   "metadata": {
    "scrolled": true
   },
   "outputs": [
    {
     "data": {
      "text/plain": [
       "GradientBoostingRegressor(random_state=42)"
      ]
     },
     "execution_count": 45,
     "metadata": {},
     "output_type": "execute_result"
    }
   ],
   "source": [
    "from sklearn.ensemble import GradientBoostingRegressor\n",
    "model = GradientBoostingRegressor(random_state=42)\n",
    "model.fit(X_train, y_train)"
   ]
  },
  {
   "cell_type": "code",
   "execution_count": 46,
   "metadata": {
    "scrolled": false
   },
   "outputs": [
    {
     "name": "stdout",
     "output_type": "stream",
     "text": [
      "MSE : 87.64051494326498\n",
      "R_squared : 0.627688384563208\n"
     ]
    }
   ],
   "source": [
    "y_pred = model.predict(X_test)\n",
    "print (\"MSE :\", metrics.mean_squared_error(y_test, y_pred))\n",
    "print('R_squared :',model.score(X_test, y_test)) "
   ]
  },
  {
   "cell_type": "code",
   "execution_count": 47,
   "metadata": {},
   "outputs": [],
   "source": [
    "score['Gradient_boosting'] = [metrics.mean_squared_error(y_test, y_pred), model.score(X_test, y_test)]\n",
    "Data['Gradient_boosting'] = y_pred "
   ]
  },
  {
   "cell_type": "code",
   "execution_count": 48,
   "metadata": {
    "scrolled": true
   },
   "outputs": [
    {
     "data": {
      "text/plain": [
       "<AxesSubplot:>"
      ]
     },
     "execution_count": 48,
     "metadata": {},
     "output_type": "execute_result"
    },
    {
     "data": {
      "image/png": "[encoded data removed]",
      "text/plain": [
       "<Figure size 432x288 with 1 Axes>"
      ]
     },
     "metadata": {
      "needs_background": "light"
     },
     "output_type": "display_data"
    }
   ],
   "source": [
    "feat_importances = pd.Series(model.feature_importances_, index= X.columns)\n",
    "feat_importances.nlargest(10).plot(kind='barh')"
   ]
  },
  {
   "cell_type": "markdown",
   "metadata": {},
   "source": [
    " # xgboost Regression"
   ]
  },
  {
   "cell_type": "code",
   "execution_count": 49,
   "metadata": {
    "scrolled": true
   },
   "outputs": [
    {
     "data": {
      "text/plain": [
       "XGBRegressor(base_score=0.5, booster='gbtree', colsample_bylevel=1,\n",
       "             colsample_bynode=1, colsample_bytree=1, gamma=0, gpu_id=-1,\n",
       "             importance_type='gain', interaction_constraints='',\n",
       "             learning_rate=0.08, max_delta_step=0, max_depth=3,\n",
       "             min_child_weight=1, missing=nan, monotone_constraints='()',\n",
       "             n_estimators=150, n_jobs=0, num_parallel_tree=1, random_state=42,\n",
       "             reg_alpha=0, reg_lambda=1, scale_pos_weight=1, subsample=1,\n",
       "             tree_method='exact', validate_parameters=1, verbosity=None)"
      ]
     },
     "execution_count": 49,
     "metadata": {},
     "output_type": "execute_result"
    }
   ],
   "source": [
    "import xgboost as xgb\n",
    "from xgboost.sklearn import XGBRegressor\n",
    "model = XGBRegressor(n_estimators = 150, learning_rate=0.08,max_depth=3,random_state=42)\n",
    "model.fit(X_train, y_train)"
   ]
  },
  {
   "cell_type": "code",
   "execution_count": 50,
   "metadata": {
    "scrolled": true
   },
   "outputs": [
    {
     "name": "stdout",
     "output_type": "stream",
     "text": [
      "MSE : 86.19491623165206\n",
      "R_squared : 0.6338295304926034\n"
     ]
    }
   ],
   "source": [
    "from sklearn import metrics\n",
    "y_pred = model.predict(X_test)\n",
    "print (\"MSE :\", metrics.mean_squared_error(y_test, y_pred))\n",
    "print('R_squared :',model.score(X_test, y_test)) "
   ]
  },
  {
   "cell_type": "code",
   "execution_count": 51,
   "metadata": {},
   "outputs": [],
   "source": [
    "score['xgb'] =  [metrics.mean_squared_error(y_test, y_pred), model.score(X_test, y_test)]\n",
    "Data['xgb'] = y_pred "
   ]
  },
  {
   "cell_type": "code",
   "execution_count": 52,
   "metadata": {
    "scrolled": true
   },
   "outputs": [
    {
     "data": {
      "text/plain": [
       "<AxesSubplot:>"
      ]
     },
     "execution_count": 52,
     "metadata": {},
     "output_type": "execute_result"
    },
    {
     "data": {
      "image/png": "[encoded data removed]",
      "text/plain": [
       "<Figure size 432x288 with 1 Axes>"
      ]
     },
     "metadata": {
      "needs_background": "light"
     },
     "output_type": "display_data"
    }
   ],
   "source": [
    "feat_importances = pd.Series(model.feature_importances_, index= X.columns)\n",
    "feat_importances.nlargest(20).plot(kind='barh')"
   ]
  },
  {
   "cell_type": "markdown",
   "metadata": {},
   "source": [
    "# 비교"
   ]
  },
  {
   "cell_type": "code",
   "execution_count": 53,
   "metadata": {
    "scrolled": true
   },
   "outputs": [
    {
     "data": {
      "text/plain": [
       "{'linear': [115.87375882979677, 0.5077488263894528],\n",
       " 'Ridge': [115.78052629560398, 0.5081448938411224],\n",
       " 'lasso': [114.83521939143081, 0.5081448938411224],\n",
       " 'K-NN': [110.66125635439359, 0.5298924116746597],\n",
       " 'random_forest': [91.9599994117647, 0.6093384896388988],\n",
       " 'Gradient_boosting': [87.64051494326498, 0.627688384563208],\n",
       " 'xgb': [86.19491623165206, 0.6338295304926034]}"
      ]
     },
     "execution_count": 53,
     "metadata": {},
     "output_type": "execute_result"
    }
   ],
   "source": [
    "# 각 모델들의 MSE , R squre\n",
    "score"
   ]
  },
  {
   "cell_type": "code",
   "execution_count": 54,
   "metadata": {},
   "outputs": [],
   "source": [
    "# 시각화 하기위해 파일저장.\n",
    "pred_DATA = pd.DataFrame(Data)\n",
    "pred_DATA.to_csv('예측.csv')"
   ]
  },
  {
   "cell_type": "code",
   "execution_count": 55,
   "metadata": {
    "scrolled": true
   },
   "outputs": [
    {
     "data": {
      "text/html": [
       "<div>\n",
       "<style scoped>\n",
       "    .dataframe tbody tr th:only-of-type {\n",
       "        vertical-align: middle;\n",
       "    }\n",
       "\n",
       "    .dataframe tbody tr th {\n",
       "        vertical-align: top;\n",
       "    }\n",
       "\n",
       "    .dataframe thead th {\n",
       "        text-align: right;\n",
       "    }\n",
       "</style>\n",
       "<table border=\"1\" class=\"dataframe\">\n",
       "  <thead>\n",
       "    <tr style=\"text-align: right;\">\n",
       "      <th></th>\n",
       "      <th>y_test</th>\n",
       "      <th>linear</th>\n",
       "      <th>Ridge</th>\n",
       "      <th>lasso</th>\n",
       "      <th>K-NN</th>\n",
       "      <th>random_forest</th>\n",
       "      <th>Gradient_boosting</th>\n",
       "      <th>xgb</th>\n",
       "    </tr>\n",
       "  </thead>\n",
       "  <tbody>\n",
       "    <tr>\n",
       "      <th>0</th>\n",
       "      <td>39</td>\n",
       "      <td>39.591610</td>\n",
       "      <td>39.591610</td>\n",
       "      <td>39.591610</td>\n",
       "      <td>47.555556</td>\n",
       "      <td>49.41</td>\n",
       "      <td>45.424855</td>\n",
       "      <td>47.355961</td>\n",
       "    </tr>\n",
       "    <tr>\n",
       "      <th>1</th>\n",
       "      <td>53</td>\n",
       "      <td>43.442307</td>\n",
       "      <td>43.442307</td>\n",
       "      <td>43.442307</td>\n",
       "      <td>45.666667</td>\n",
       "      <td>44.20</td>\n",
       "      <td>47.707230</td>\n",
       "      <td>48.964478</td>\n",
       "    </tr>\n",
       "    <tr>\n",
       "      <th>2</th>\n",
       "      <td>35</td>\n",
       "      <td>38.667962</td>\n",
       "      <td>38.667962</td>\n",
       "      <td>38.667962</td>\n",
       "      <td>34.000000</td>\n",
       "      <td>37.63</td>\n",
       "      <td>31.881639</td>\n",
       "      <td>31.860603</td>\n",
       "    </tr>\n",
       "    <tr>\n",
       "      <th>3</th>\n",
       "      <td>60</td>\n",
       "      <td>47.198234</td>\n",
       "      <td>47.198234</td>\n",
       "      <td>47.198234</td>\n",
       "      <td>52.888889</td>\n",
       "      <td>49.79</td>\n",
       "      <td>47.914982</td>\n",
       "      <td>48.031036</td>\n",
       "    </tr>\n",
       "    <tr>\n",
       "      <th>4</th>\n",
       "      <td>73</td>\n",
       "      <td>54.452415</td>\n",
       "      <td>54.452415</td>\n",
       "      <td>54.452415</td>\n",
       "      <td>67.555556</td>\n",
       "      <td>68.10</td>\n",
       "      <td>63.964419</td>\n",
       "      <td>63.798450</td>\n",
       "    </tr>\n",
       "    <tr>\n",
       "      <th>5</th>\n",
       "      <td>24</td>\n",
       "      <td>24.652574</td>\n",
       "      <td>24.652574</td>\n",
       "      <td>24.652574</td>\n",
       "      <td>27.888889</td>\n",
       "      <td>22.72</td>\n",
       "      <td>24.367213</td>\n",
       "      <td>24.255486</td>\n",
       "    </tr>\n",
       "    <tr>\n",
       "      <th>6</th>\n",
       "      <td>42</td>\n",
       "      <td>37.779270</td>\n",
       "      <td>37.779270</td>\n",
       "      <td>37.779270</td>\n",
       "      <td>40.000000</td>\n",
       "      <td>38.45</td>\n",
       "      <td>40.595756</td>\n",
       "      <td>39.900398</td>\n",
       "    </tr>\n",
       "    <tr>\n",
       "      <th>7</th>\n",
       "      <td>41</td>\n",
       "      <td>37.048577</td>\n",
       "      <td>37.048577</td>\n",
       "      <td>37.048577</td>\n",
       "      <td>36.111111</td>\n",
       "      <td>39.32</td>\n",
       "      <td>39.082240</td>\n",
       "      <td>39.168682</td>\n",
       "    </tr>\n",
       "    <tr>\n",
       "      <th>8</th>\n",
       "      <td>50</td>\n",
       "      <td>48.935753</td>\n",
       "      <td>48.935753</td>\n",
       "      <td>48.935753</td>\n",
       "      <td>49.222222</td>\n",
       "      <td>44.32</td>\n",
       "      <td>48.479283</td>\n",
       "      <td>46.267185</td>\n",
       "    </tr>\n",
       "    <tr>\n",
       "      <th>9</th>\n",
       "      <td>27</td>\n",
       "      <td>36.003448</td>\n",
       "      <td>36.003448</td>\n",
       "      <td>36.003448</td>\n",
       "      <td>36.888889</td>\n",
       "      <td>39.09</td>\n",
       "      <td>42.556822</td>\n",
       "      <td>40.453506</td>\n",
       "    </tr>\n",
       "  </tbody>\n",
       "</table>\n",
       "</div>"
      ],
      "text/plain": [
       "   y_test     linear      Ridge      lasso       K-NN  random_forest  \\\n",
       "0      39  39.591610  39.591610  39.591610  47.555556          49.41   \n",
       "1      53  43.442307  43.442307  43.442307  45.666667          44.20   \n",
       "2      35  38.667962  38.667962  38.667962  34.000000          37.63   \n",
       "3      60  47.198234  47.198234  47.198234  52.888889          49.79   \n",
       "4      73  54.452415  54.452415  54.452415  67.555556          68.10   \n",
       "5      24  24.652574  24.652574  24.652574  27.888889          22.72   \n",
       "6      42  37.779270  37.779270  37.779270  40.000000          38.45   \n",
       "7      41  37.048577  37.048577  37.048577  36.111111          39.32   \n",
       "8      50  48.935753  48.935753  48.935753  49.222222          44.32   \n",
       "9      27  36.003448  36.003448  36.003448  36.888889          39.09   \n",
       "\n",
       "   Gradient_boosting        xgb  \n",
       "0          45.424855  47.355961  \n",
       "1          47.707230  48.964478  \n",
       "2          31.881639  31.860603  \n",
       "3          47.914982  48.031036  \n",
       "4          63.964419  63.798450  \n",
       "5          24.367213  24.255486  \n",
       "6          40.595756  39.900398  \n",
       "7          39.082240  39.168682  \n",
       "8          48.479283  46.267185  \n",
       "9          42.556822  40.453506  "
      ]
     },
     "execution_count": 55,
     "metadata": {},
     "output_type": "execute_result"
    }
   ],
   "source": [
    "pred_DATA.head(10)"
   ]
  },
  {
   "cell_type": "code",
   "execution_count": 56,
   "metadata": {},
   "outputs": [],
   "source": [
    "# 시각화는 따로 tableau 프로그램을 사용하였습니다."
   ]
  },
  {
   "cell_type": "code",
   "execution_count": null,
   "metadata": {},
   "outputs": [],
   "source": []
  }
 ],
 "metadata": {
  "kernelspec": {
   "display_name": "Python 3",
   "language": "python",
   "name": "python3"
  },
  "language_info": {
   "codemirror_mode": {
    "name": "ipython",
    "version": 3
   },
   "file_extension": ".py",
   "mimetype": "text/x-python",
   "name": "python",
   "nbconvert_exporter": "python",
   "pygments_lexer": "ipython3",
   "version": "3.7.4"
  },
  "toc": {
   "base_numbering": 1,
   "nav_menu": {},
   "number_sections": true,
   "sideBar": true,
   "skip_h1_title": false,
   "title_cell": "Table of Contents",
   "title_sidebar": "Contents",
   "toc_cell": false,
   "toc_position": {
    "height": "calc(100% - 180px)",
    "left": "10px",
    "top": "150px",
    "width": "307.182px"
   },
   "toc_section_display": true,
   "toc_window_display": true
  },
  "varInspector": {
   "cols": {
    "lenName": 16,
    "lenType": 16,
    "lenVar": 40
   },
   "kernels_config": {
    "python": {
     "delete_cmd_postfix": "",
     "delete_cmd_prefix": "del ",
     "library": "var_list.py",
     "varRefreshCmd": "print(var_dic_list())"
    },
    "r": {
     "delete_cmd_postfix": ") ",
     "delete_cmd_prefix": "rm(",
     "library": "var_list.r",
     "varRefreshCmd": "cat(var_dic_list()) "
    }
   },
   "types_to_exclude": [
    "module",
    "function",
    "builtin_function_or_method",
    "instance",
    "_Feature"
   ],
   "window_display": false
  }
 },
 "nbformat": 4,
 "nbformat_minor": 2
}
